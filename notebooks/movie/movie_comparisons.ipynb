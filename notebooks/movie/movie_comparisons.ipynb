{
 "cells": [
  {
   "cell_type": "code",
   "execution_count": null,
   "id": "5c67c136",
   "metadata": {},
   "outputs": [],
   "source": [
    "import pandas as pd\n",
    "import sys\n",
    "\n",
    "print(\"Packages Imported\")"
   ]
  },
  {
   "cell_type": "code",
   "execution_count": null,
   "id": "79e0f449",
   "metadata": {},
   "outputs": [],
   "source": [
    "# settings\n",
    "PROJECT_PATH = 'G:/Shared drives/visual_encoding'\n",
    "SPIKES_IN = 'data/spike_data/synchrony_data'\n",
    "LFP_IN = 'data/lfp_data/lfp_params'\n",
    "\n",
    "sys.path.append(PROJECT_PATH)\n",
    "from allen_vc.plts import linregressplot"
   ]
  },
  {
   "cell_type": "code",
   "execution_count": null,
   "id": "1ee353fa",
   "metadata": {},
   "outputs": [],
   "source": [
    "# load spike metric data\n",
    "synchrony_df = pd.read_csv(f'{PROJECT_PATH}/{SPIKES_IN}/VISp-LGd_natural_movie_one_more_repeats.csv')\n",
    "# load lfp psd data\n",
    "lfp_df = pd.read_csv(f'{PROJECT_PATH}/{LFP_IN}/natural_movie/all_params.csv')"
   ]
  },
  {
   "cell_type": "code",
   "execution_count": null,
   "id": "f0178c4e",
   "metadata": {
    "scrolled": false
   },
   "outputs": [],
   "source": [
    "# iterate over each session and join dataframes\n",
    "for session_id in synchrony_df.get('session_id').unique():\n",
    "    # filter by region\n",
    "    vis_synchrony_df = synchrony_df[synchrony_df.get('brain_structure')=='VISp']\n",
    "    \n",
    "    # filter by session\n",
    "    ses_df = vis_synchrony_df[vis_synchrony_df.get('session_id')==ses_id]\n",
    "    ses_df = ses_df.assign(epoch_idx = ses_df.get('state').apply(lambda x: float(x.split(\"_\")[-1])))\n",
    "    lfp_df = lfp_df[lfp_df.get('session_id')==ses_id]\n",
    "    \n",
    "    # find median of lfp metrics across channels\n",
    "    lfp_df = channel_medians(lfp_df, lfp_df.columns).drop(columns=\"chan_idx\")\n",
    "    \n",
    "    # join dataframes\n",
    "    lfp_sync = lfp_df.merge(ses_df)\n",
    "    \n",
    "    # create plots\n",
    "    x = lfp_sync.get('mean_firing_rate')\n",
    "    y = lfp_sync.get('broadband offset')\n",
    "    linregress_plot(x, y, session_id, \"mean_firing_rate\", \"broadband offset\")"
   ]
  },
  {
   "cell_type": "code",
   "execution_count": null,
   "id": "09053593",
   "metadata": {},
   "outputs": [],
   "source": [
    "# repeat process for shuffled movies"
   ]
  },
  {
   "cell_type": "code",
   "execution_count": null,
   "id": "4f91c514",
   "metadata": {},
   "outputs": [],
   "source": [
    "synchrony_df = pd.read_csv(f'{PROJECT_PATH}/{SPIKES_IN}/VISp-LGd_natural_movie_one_shuffled.csv')\n",
    "lfp_df = pd.read_csv(f'{PROJECT_PATH}/{LFP_IN}/natural_movie_shuffled/all_params.csv')"
   ]
  },
  {
   "cell_type": "code",
   "execution_count": null,
   "id": "34cf4b7f",
   "metadata": {},
   "outputs": [],
   "source": [
    "for session_id in synchrony_df.get('session_id').unique():\n",
    "    vis_synchrony_df = synchrony_df[synchrony_df.get('brain_structure')=='VISp']\n",
    "    \n",
    "    ses_df = vis_synchrony_df[vis_synchrony_df.get('session_id')==ses_id]\n",
    "    ses_df = ses_df.assign(epoch_idx = ses_df.get('state').apply(lambda x: float(x.split(\"_\")[-1])))\n",
    "    lfp_df = lfp_df[lfp_df.get('session_id')==ses_id]\n",
    "    \n",
    "    lfp_df = channel_medians(lfp_df, lfp_df.columns).drop(columns=\"chan_idx\")\n",
    "    \n",
    "    lfp_sync = lfp_df.merge(ses_df)\n",
    "    \n",
    "    x = lfp_sync.get('mean_firing_rate')\n",
    "    y = lfp_sync.get('broadband offset')\n",
    "    linregress_plot(x, y, session_id, \"mean_firing_rate\", \"broadband offset\")"
   ]
  }
 ],
 "metadata": {
  "kernelspec": {
   "display_name": "Python 3 (ipykernel)",
   "language": "python",
   "name": "python3"
  },
  "language_info": {
   "codemirror_mode": {
    "name": "ipython",
    "version": 3
   },
   "file_extension": ".py",
   "mimetype": "text/x-python",
   "name": "python",
   "nbconvert_exporter": "python",
   "pygments_lexer": "ipython3",
   "version": "3.7.13"
  }
 },
 "nbformat": 4,
 "nbformat_minor": 5
}
