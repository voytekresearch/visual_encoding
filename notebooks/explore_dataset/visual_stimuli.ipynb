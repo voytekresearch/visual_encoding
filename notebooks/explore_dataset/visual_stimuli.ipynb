{
 "cells": [
  {
   "cell_type": "markdown",
   "metadata": {},
   "source": [
    "## Dataset\n",
    "#### Allen Institute for Brain Science: Visual Coding - Neuropixels\n",
    "\n",
    "© 2015 Allen Institute for Brain Science. Allen Brain Atlas API. Available from: https://portal.brain-map.org/explore/circuits/visual-coding-neuropixels)."
   ]
  },
  {
   "cell_type": "markdown",
   "metadata": {},
   "source": [
    "## Examine stimulus presentation information\n"
   ]
  },
  {
   "cell_type": "markdown",
   "metadata": {},
   "source": [
    "##### Imports"
   ]
  },
  {
   "cell_type": "code",
   "execution_count": 1,
   "metadata": {},
   "outputs": [],
   "source": [
    "# imports\n",
    "from os.path import join\n",
    "import numpy as np\n",
    "import matplotlib.pyplot as plt\n",
    "from allensdk.brain_observatory.ecephys.ecephys_project_cache import EcephysProjectCache"
   ]
  },
  {
   "cell_type": "markdown",
   "metadata": {},
   "source": [
    "##### Set up project "
   ]
  },
  {
   "cell_type": "code",
   "execution_count": 2,
   "metadata": {},
   "outputs": [],
   "source": [
    "# set manifest path and load project cache\n",
    "MANIFEST_PATH = '/micha/visual_encoding/ecephys_cache_dir/'\n",
    "project_cache = EcephysProjectCache.from_warehouse(manifest=join(MANIFEST_PATH, \"manifest.json\"))"
   ]
  },
  {
   "cell_type": "markdown",
   "metadata": {},
   "source": [
    "##### Load data"
   ]
  },
  {
   "cell_type": "code",
   "execution_count": 3,
   "metadata": {},
   "outputs": [],
   "source": [
    "# Select (and download) data for an example session\n",
    "SESSION_ID = 791319847\n",
    "session = project_cache.get_session_data(SESSION_ID)"
   ]
  },
  {
   "cell_type": "code",
   "execution_count": 4,
   "metadata": {},
   "outputs": [
    {
     "data": {
      "text/html": [
       "<div>\n",
       "<style scoped>\n",
       "    .dataframe tbody tr th:only-of-type {\n",
       "        vertical-align: middle;\n",
       "    }\n",
       "\n",
       "    .dataframe tbody tr th {\n",
       "        vertical-align: top;\n",
       "    }\n",
       "\n",
       "    .dataframe thead th {\n",
       "        text-align: right;\n",
       "    }\n",
       "</style>\n",
       "<table border=\"1\" class=\"dataframe\">\n",
       "  <thead>\n",
       "    <tr style=\"text-align: right;\">\n",
       "      <th></th>\n",
       "      <th>color</th>\n",
       "      <th>contrast</th>\n",
       "      <th>frame</th>\n",
       "      <th>orientation</th>\n",
       "      <th>phase</th>\n",
       "      <th>size</th>\n",
       "      <th>spatial_frequency</th>\n",
       "      <th>start_time</th>\n",
       "      <th>stimulus_block</th>\n",
       "      <th>stimulus_name</th>\n",
       "      <th>stop_time</th>\n",
       "      <th>temporal_frequency</th>\n",
       "      <th>x_position</th>\n",
       "      <th>y_position</th>\n",
       "      <th>duration</th>\n",
       "      <th>stimulus_condition_id</th>\n",
       "    </tr>\n",
       "    <tr>\n",
       "      <th>stimulus_presentation_id</th>\n",
       "      <th></th>\n",
       "      <th></th>\n",
       "      <th></th>\n",
       "      <th></th>\n",
       "      <th></th>\n",
       "      <th></th>\n",
       "      <th></th>\n",
       "      <th></th>\n",
       "      <th></th>\n",
       "      <th></th>\n",
       "      <th></th>\n",
       "      <th></th>\n",
       "      <th></th>\n",
       "      <th></th>\n",
       "      <th></th>\n",
       "      <th></th>\n",
       "    </tr>\n",
       "  </thead>\n",
       "  <tbody>\n",
       "    <tr>\n",
       "      <th>0</th>\n",
       "      <td>null</td>\n",
       "      <td>null</td>\n",
       "      <td>null</td>\n",
       "      <td>null</td>\n",
       "      <td>null</td>\n",
       "      <td>null</td>\n",
       "      <td>null</td>\n",
       "      <td>29.164512</td>\n",
       "      <td>null</td>\n",
       "      <td>spontaneous</td>\n",
       "      <td>89.231262</td>\n",
       "      <td>null</td>\n",
       "      <td>null</td>\n",
       "      <td>null</td>\n",
       "      <td>60.066750</td>\n",
       "      <td>0</td>\n",
       "    </tr>\n",
       "    <tr>\n",
       "      <th>1</th>\n",
       "      <td>null</td>\n",
       "      <td>0.8</td>\n",
       "      <td>null</td>\n",
       "      <td>45</td>\n",
       "      <td>[3644.93333333, 3644.93333333]</td>\n",
       "      <td>[20.0, 20.0]</td>\n",
       "      <td>0.08</td>\n",
       "      <td>89.231262</td>\n",
       "      <td>0</td>\n",
       "      <td>gabors</td>\n",
       "      <td>89.464781</td>\n",
       "      <td>4</td>\n",
       "      <td>10</td>\n",
       "      <td>-40</td>\n",
       "      <td>0.233519</td>\n",
       "      <td>1</td>\n",
       "    </tr>\n",
       "    <tr>\n",
       "      <th>2</th>\n",
       "      <td>null</td>\n",
       "      <td>0.8</td>\n",
       "      <td>null</td>\n",
       "      <td>45</td>\n",
       "      <td>[3644.93333333, 3644.93333333]</td>\n",
       "      <td>[20.0, 20.0]</td>\n",
       "      <td>0.08</td>\n",
       "      <td>89.464781</td>\n",
       "      <td>0</td>\n",
       "      <td>gabors</td>\n",
       "      <td>89.714980</td>\n",
       "      <td>4</td>\n",
       "      <td>-10</td>\n",
       "      <td>0</td>\n",
       "      <td>0.250199</td>\n",
       "      <td>2</td>\n",
       "    </tr>\n",
       "    <tr>\n",
       "      <th>3</th>\n",
       "      <td>null</td>\n",
       "      <td>0.8</td>\n",
       "      <td>null</td>\n",
       "      <td>45</td>\n",
       "      <td>[3644.93333333, 3644.93333333]</td>\n",
       "      <td>[20.0, 20.0]</td>\n",
       "      <td>0.08</td>\n",
       "      <td>89.714980</td>\n",
       "      <td>0</td>\n",
       "      <td>gabors</td>\n",
       "      <td>89.965179</td>\n",
       "      <td>4</td>\n",
       "      <td>-40</td>\n",
       "      <td>20</td>\n",
       "      <td>0.250199</td>\n",
       "      <td>3</td>\n",
       "    </tr>\n",
       "    <tr>\n",
       "      <th>4</th>\n",
       "      <td>null</td>\n",
       "      <td>0.8</td>\n",
       "      <td>null</td>\n",
       "      <td>90</td>\n",
       "      <td>[3644.93333333, 3644.93333333]</td>\n",
       "      <td>[20.0, 20.0]</td>\n",
       "      <td>0.08</td>\n",
       "      <td>89.965179</td>\n",
       "      <td>0</td>\n",
       "      <td>gabors</td>\n",
       "      <td>90.215377</td>\n",
       "      <td>4</td>\n",
       "      <td>-40</td>\n",
       "      <td>-10</td>\n",
       "      <td>0.250199</td>\n",
       "      <td>4</td>\n",
       "    </tr>\n",
       "  </tbody>\n",
       "</table>\n",
       "</div>"
      ],
      "text/plain": [
       "                         color contrast frame orientation  \\\n",
       "stimulus_presentation_id                                    \n",
       "0                         null     null  null        null   \n",
       "1                         null      0.8  null          45   \n",
       "2                         null      0.8  null          45   \n",
       "3                         null      0.8  null          45   \n",
       "4                         null      0.8  null          90   \n",
       "\n",
       "                                                   phase          size  \\\n",
       "stimulus_presentation_id                                                 \n",
       "0                                                   null          null   \n",
       "1                         [3644.93333333, 3644.93333333]  [20.0, 20.0]   \n",
       "2                         [3644.93333333, 3644.93333333]  [20.0, 20.0]   \n",
       "3                         [3644.93333333, 3644.93333333]  [20.0, 20.0]   \n",
       "4                         [3644.93333333, 3644.93333333]  [20.0, 20.0]   \n",
       "\n",
       "                         spatial_frequency  start_time stimulus_block  \\\n",
       "stimulus_presentation_id                                                \n",
       "0                                     null   29.164512           null   \n",
       "1                                     0.08   89.231262              0   \n",
       "2                                     0.08   89.464781              0   \n",
       "3                                     0.08   89.714980              0   \n",
       "4                                     0.08   89.965179              0   \n",
       "\n",
       "                         stimulus_name  stop_time temporal_frequency  \\\n",
       "stimulus_presentation_id                                               \n",
       "0                          spontaneous  89.231262               null   \n",
       "1                               gabors  89.464781                  4   \n",
       "2                               gabors  89.714980                  4   \n",
       "3                               gabors  89.965179                  4   \n",
       "4                               gabors  90.215377                  4   \n",
       "\n",
       "                         x_position y_position   duration  \\\n",
       "stimulus_presentation_id                                    \n",
       "0                              null       null  60.066750   \n",
       "1                                10        -40   0.233519   \n",
       "2                               -10          0   0.250199   \n",
       "3                               -40         20   0.250199   \n",
       "4                               -40        -10   0.250199   \n",
       "\n",
       "                          stimulus_condition_id  \n",
       "stimulus_presentation_id                         \n",
       "0                                             0  \n",
       "1                                             1  \n",
       "2                                             2  \n",
       "3                                             3  \n",
       "4                                             4  "
      ]
     },
     "execution_count": 4,
     "metadata": {},
     "output_type": "execute_result"
    }
   ],
   "source": [
    "# get stimulus info (slow)\n",
    "stim_table = session.get_stimulus_table()\n",
    "stim_table.head()"
   ]
  },
  {
   "cell_type": "code",
   "execution_count": 5,
   "metadata": {},
   "outputs": [],
   "source": [
    "# replace 'null' with np.nan (NaN)\n",
    "stim_table = stim_table.replace('null', np.nan)"
   ]
  },
  {
   "cell_type": "markdown",
   "metadata": {},
   "source": [
    "##### List stimulus types"
   ]
  },
  {
   "cell_type": "code",
   "execution_count": 6,
   "metadata": {},
   "outputs": [
    {
     "data": {
      "text/plain": [
       "array(['drifting_gratings', 'drifting_gratings_contrast', 'flashes',\n",
       "       'gabors', 'natural_movie_one', 'natural_movie_three',\n",
       "       'natural_scenes', 'spontaneous', 'static_gratings'], dtype=object)"
      ]
     },
     "execution_count": 6,
     "metadata": {},
     "output_type": "execute_result"
    }
   ],
   "source": [
    "np.unique(stim_table[\"stimulus_name\"].values)"
   ]
  },
  {
   "cell_type": "markdown",
   "metadata": {},
   "source": [
    "##### Exaine duration of spontanious epochs"
   ]
  },
  {
   "cell_type": "code",
   "execution_count": 7,
   "metadata": {},
   "outputs": [
    {
     "name": "stdout",
     "output_type": "stream",
     "text": [
      "number of presentation: 16\n",
      "durations:\n",
      "[ 60.06675    288.99151383   1.75150628  31.02593511  30.02505\n",
      "  30.02508    301.25171511  30.02511      1.00081511  30.02512\n",
      " 300.25102     30.02514     30.02514     30.0251      42.53559756\n",
      "  30.02515   ]\n"
     ]
    }
   ],
   "source": [
    "print('number of presentation: %d' %(sum(stim_table[\"stimulus_name\"] == 'spontaneous')))\n",
    "print('durations:')\n",
    "print(stim_table['duration'][stim_table[\"stimulus_name\"] == 'spontaneous'].values)"
   ]
  },
  {
   "cell_type": "markdown",
   "metadata": {},
   "source": [
    "There are several 30 second epochs of spontanious activity, and a few longer epochs lasting arouund 300 seconds."
   ]
  },
  {
   "cell_type": "markdown",
   "metadata": {},
   "source": [
    "##### Examine parameters of drifting gratings\n",
    "8 orientations, 5 temporal freqs  \n",
    "0.04 cpd, 2 sec presentation time"
   ]
  },
  {
   "cell_type": "code",
   "execution_count": 8,
   "metadata": {},
   "outputs": [
    {
     "name": "stdout",
     "output_type": "stream",
     "text": [
      "orientations:\n",
      "[  0.  45.  90. 135. 180. 225. 270. 315.]\n",
      "\n",
      "temporal frequencies:\n",
      "[ 1.  2.  4.  8. 15.]\n"
     ]
    }
   ],
   "source": [
    "stims = stim_table[stim_table[\"stimulus_name\"] == 'drifting_gratings']\n",
    "\n",
    "# orientation\n",
    "temp = np.unique(stims['orientation'])\n",
    "orientation = temp[~np.isnan(temp)]\n",
    "print('orientations:')\n",
    "print(orientation)\n",
    "\n",
    "# temporal frequency\n",
    "temp = np.unique(stims['temporal_frequency'])\n",
    "temp_freq = temp[~np.isnan(temp)]\n",
    "print('\\ntemporal frequencies:')\n",
    "print(temp_freq)\n"
   ]
  },
  {
   "cell_type": "code",
   "execution_count": null,
   "metadata": {},
   "outputs": [],
   "source": []
  },
  {
   "cell_type": "code",
   "execution_count": null,
   "metadata": {},
   "outputs": [],
   "source": []
  },
  {
   "cell_type": "code",
   "execution_count": null,
   "metadata": {},
   "outputs": [],
   "source": []
  },
  {
   "cell_type": "code",
   "execution_count": null,
   "metadata": {},
   "outputs": [],
   "source": []
  },
  {
   "cell_type": "code",
   "execution_count": null,
   "metadata": {},
   "outputs": [],
   "source": []
  },
  {
   "cell_type": "code",
   "execution_count": null,
   "metadata": {},
   "outputs": [],
   "source": []
  },
  {
   "cell_type": "code",
   "execution_count": null,
   "metadata": {},
   "outputs": [],
   "source": []
  },
  {
   "cell_type": "code",
   "execution_count": null,
   "metadata": {},
   "outputs": [],
   "source": []
  },
  {
   "cell_type": "code",
   "execution_count": null,
   "metadata": {},
   "outputs": [],
   "source": []
  },
  {
   "cell_type": "code",
   "execution_count": null,
   "metadata": {},
   "outputs": [],
   "source": []
  },
  {
   "cell_type": "code",
   "execution_count": null,
   "metadata": {},
   "outputs": [],
   "source": []
  }
 ],
 "metadata": {
  "kernelspec": {
   "display_name": "Python 3",
   "language": "python",
   "name": "python3"
  },
  "language_info": {
   "codemirror_mode": {
    "name": "ipython",
    "version": 3
   },
   "file_extension": ".py",
   "mimetype": "text/x-python",
   "name": "python",
   "nbconvert_exporter": "python",
   "pygments_lexer": "ipython3",
   "version": "3.8.3"
  }
 },
 "nbformat": 4,
 "nbformat_minor": 4
}
