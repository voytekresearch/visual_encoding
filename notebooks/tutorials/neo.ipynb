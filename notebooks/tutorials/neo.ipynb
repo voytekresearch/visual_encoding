{
 "cells": [
  {
   "cell_type": "markdown",
   "id": "41cf2483",
   "metadata": {},
   "source": [
    "********\n",
    "# Neo\n",
    "********\n",
    "\n",
    "This figure shows the main data types in Neo, with the exception of the newly added ImageSequence and RegionOfInterest classes:\n",
    "\n",
    "<img src='images/base_schematic.png' width=\"400\" height=\"400\">\n",
    "\n",
    "Neo objects fall into three categories: data objects, container objects and grouping objects."
   ]
  },
  {
   "cell_type": "markdown",
   "id": "308c7db0",
   "metadata": {},
   "source": [
    "### Data objects\n",
    "***********\n",
    "These objects directly represent data as arrays of numerical values with\n",
    "associated metadata (units, sampling frequency, etc.).\n",
    "\n",
    "  * :py:class:`AnalogSignal`: A regular sampling of a single- or multi-channel continuous analog signal.\n",
    "  * :py:class:`SpikeTrain`: A set of action potentials (spikes) emitted by the same unit in a period of time (with optional waveforms)."
   ]
  },
  {
   "cell_type": "markdown",
   "id": "a5ebf383",
   "metadata": {},
   "source": [
    "### Container objects\n",
    "*************\n",
    "\n",
    "There is a simple hierarchy of containers:\n",
    "\n",
    "  * :py:class:`Segment`: A container for heterogeneous discrete or continuous data sharing a common\n",
    "    clock (time basis) but not necessarily the same sampling rate, start time or end time.\n",
    "    A :py:class:`Segment` can be considered as equivalent to a \"trial\", \"episode\", \"run\",\n",
    "    \"recording\", etc., depending on the experimental context.\n",
    "    May contain any of the data objects.\n",
    "  * :py:class:`Block`: The top-level container gathering all of the data, discrete and continuous,\n",
    "    for a given recording session.\n",
    "    Contains :class:`Segment` and :class:`Group` objects."
   ]
  },
  {
   "cell_type": "markdown",
   "id": "48014cf4",
   "metadata": {},
   "source": [
    "### Grouping/linking objects\n",
    "------------------------"
   ]
  },
  {
   "cell_type": "markdown",
   "id": "1faa87ce",
   "metadata": {},
   "source": [
    "* :py:class:`Group`: Can contain any of the data objects, views, or other groups,\n",
    "    outside the hierarchy of the segment and block containers.\n",
    "    A common use is to link the :class:`SpikeTrain` objects within a :class:`Block`,\n",
    "    possibly across multiple Segments, that were emitted by the same neuron.\n",
    "    \n",
    "<img src='images/multi_segment_diagram_spiketrain.png' width=\"400\" height=\"400\">"
   ]
  },
  {
   "cell_type": "markdown",
   "id": "657edfcf",
   "metadata": {},
   "source": [
    "### NumPy compatibility\n",
    "===================\n",
    "\n",
    "Neo data objects inherit from :py:class:`Quantity`, which in turn inherits from NumPy\n",
    ":py:class:`ndarray`. This means that a Neo :py:class:`AnalogSignal` is also a :py:class:`Quantity`\n",
    "and an array, giving you access to all of the methods available for those objects.\n",
    "\n",
    "For example, you can pass a :py:class:`SpikeTrain` directly to the :py:func:`numpy.histogram`\n",
    "function, or an :py:class:`AnalogSignal` directly to the :py:func:`numpy.std` function.\n",
    "\n",
    "If you want to get a numpy.ndarray you use magnitude and rescale from quantities::"
   ]
  },
  {
   "cell_type": "code",
   "execution_count": null,
   "id": "a2c2a263",
   "metadata": {},
   "outputs": [],
   "source": [
    "np_sig = neo_analogsignal.rescale('mV').magnitude\n",
    "np_times = neo_analogsignal.times.rescale('s').magnitude"
   ]
  },
  {
   "cell_type": "markdown",
   "id": "02dc2ab0",
   "metadata": {},
   "source": [
    "### Relationships between objects\n",
    "=============================\n",
    "\n",
    "Container objects like :py:class:`Block` or :py:class:`Segment` are gateways to\n",
    "access other objects. For example, a :class:`Block` can access a :class:`Segment`\n",
    "with::\n",
    "\n",
    "    >>> bl = Block()\n",
    "    >>> bl.segments\n",
    "    # gives a list of segments\n",
    "\n",
    "A :class:`Segment` can access the :class:`AnalogSignal` objects that it contains with::\n",
    "\n",
    "    >>> seg = Segment()\n",
    "    >>> seg.analogsignals\n",
    "    # gives a list of AnalogSignals\n",
    "\n",
    "In the :ref:`neo_diagram` below, these *one to many* relationships are represented by cyan arrows.\n",
    "In general, an object can access its children with an attribute *childname+s* in lower case, e.g.\n",
    "\n",
    "    * :attr:`Block.segments`\n",
    "    * :attr:`Segments.analogsignals`\n",
    "    * :attr:`Segments.spiketrains`\n",
    "    * :attr:`Block.groups`\n",
    "\n",
    "These relationships are bi-directional, i.e. a child object can access its parent:\n",
    "\n",
    "    * :attr:`Segment.block`\n",
    "    * :attr:`AnalogSignal.segment`\n",
    "    * :attr:`SpikeTrain.segment`\n",
    "    * :attr:`Group.block`\n",
    "\n",
    "Here is an example showing these relationships in use::"
   ]
  },
  {
   "cell_type": "code",
   "execution_count": null,
   "id": "a92c5d1e",
   "metadata": {},
   "outputs": [],
   "source": [
    "# example here"
   ]
  },
  {
   "cell_type": "markdown",
   "id": "9980ba09",
   "metadata": {},
   "source": [
    "### Neo diagram\n",
    "===========\n",
    "\n",
    "Object:\n",
    "  * With a star = inherits from :class:`Quantity`\n",
    "Attributes:\n",
    "  * In red = required\n",
    "  * In white = recommended\n",
    "Relationship:\n",
    "  * In cyan = one to many\n",
    "  * In yellow = properties (deduced from other relationships)\n",
    "\n",
    "\n",
    "<img src='images/simple_generated_diagram.png' width=\"700\" height=\"400\">"
   ]
  },
  {
   "cell_type": "markdown",
   "id": "a33c23e8",
   "metadata": {},
   "source": [
    "### Initialization\n",
    "==============\n",
    "\n",
    "Neo objects are initialized with \"required\", \"recommended\", and \"additional\" arguments.\n",
    "\n",
    "    - Required arguments MUST be provided at the time of initialization. They are used in the construction of the object.\n",
    "    - Recommended arguments may be provided at the time of initialization. They are accessible as Python attributes. They can also be set or modified after initialization.\n",
    "    - Additional arguments are defined by the user and are not part of the Neo object model. A primary goal of the Neo project is extensibility. These additional arguments are entries in an attribute of the object: a Python dict called :py:attr:`annotations`.\n",
    "      Note : Neo annotations are not the same as the *__annotations__* attribute introduced in Python 3.6.\n",
    "\n",
    "### Example: SpikeTrain\n",
    "-------------------\n",
    "\n",
    ":py:class:`SpikeTrain` is a :py:class:`Quantity`, which is a NumPy array containing values with physical dimensions. The spike times are a required attribute, because the dimensionality of the spike times determines the way in which the :py:class:`Quantity` is constructed.\n",
    "\n",
    "Here is how you initialize a :py:class:`SpikeTrain` with required arguments::"
   ]
  },
  {
   "cell_type": "code",
   "execution_count": null,
   "id": "0af152ca",
   "metadata": {},
   "outputs": [],
   "source": [
    "import neo\n",
    "st = neo.SpikeTrain([3, 4, 5], units='sec', t_stop=10.0)\n",
    "st"
   ]
  },
  {
   "cell_type": "markdown",
   "id": "38fe40ed",
   "metadata": {},
   "source": [
    "You will see the spike times printed in a nice format including the units.\n",
    "Because `st` \"is a\" :py:class:`Quantity` array with units of seconds, it absolutely must have this information at the time of initialization. You can specify the spike times with a keyword argument too::"
   ]
  },
  {
   "cell_type": "code",
   "execution_count": null,
   "id": "f37d927d",
   "metadata": {},
   "outputs": [],
   "source": [
    "st = neo.SpikeTrain(times=[3, 4, 5], units='sec', t_stop=10.0)"
   ]
  },
  {
   "cell_type": "markdown",
   "id": "1888c4a5",
   "metadata": {},
   "source": [
    "The spike times could also be in a NumPy array.\n",
    "\n",
    "If it is not specified, :attr:`t_start` is assumed to be zero, but another value can easily be specified::"
   ]
  },
  {
   "cell_type": "code",
   "execution_count": null,
   "id": "f37b7474",
   "metadata": {},
   "outputs": [],
   "source": [
    "st = neo.SpikeTrain(times=[3, 4, 5], units='sec', t_start=1.0, t_stop=10.0)\n",
    "st.t_start"
   ]
  },
  {
   "cell_type": "markdown",
   "id": "02f9dbfe",
   "metadata": {},
   "source": [
    "Recommended attributes must be specified as keyword arguments, not positional arguments.\n",
    "\n",
    "\n",
    "Finally, let's consider \"additional arguments\". These are the ones you define for your experiment::"
   ]
  },
  {
   "cell_type": "code",
   "execution_count": null,
   "id": "da8e521d",
   "metadata": {},
   "outputs": [],
   "source": [
    "st = neo.SpikeTrain(times=[3, 4, 5], units='sec', t_stop=10.0, rat_name='Fred')\n",
    "st.annotations"
   ]
  },
  {
   "cell_type": "markdown",
   "id": "8f9d9eb3",
   "metadata": {},
   "source": [
    "Because ``rat_name`` is not part of the Neo object model, it is placed in the dict :py:attr:`annotations`. This dict can be modified as necessary by your code.\n",
    "\n",
    "### Annotations\n",
    "-----------\n",
    "\n",
    "As well as adding annotations as \"additional\" arguments when an object is\n",
    "constructed, objects may be annotated using the :meth:`annotate` method\n",
    "possessed by all Neo core objects, e.g.::"
   ]
  },
  {
   "cell_type": "code",
   "execution_count": null,
   "id": "68019956",
   "metadata": {},
   "outputs": [],
   "source": [
    "seg = Segment()\n",
    "seg.annotate(stimulus=\"step pulse\", amplitude=10*nA)\n",
    "seg.annotations"
   ]
  },
  {
   "cell_type": "markdown",
   "id": "dd7a381e",
   "metadata": {},
   "source": [
    "Since annotations may be written to a file or database, there are some\n",
    "limitations on the data types of annotations: they must be \"simple\" types or\n",
    "containers (lists, dicts, tuples, NumPy arrays) of simple types, where the simple types\n",
    "are ``integer``, ``float``, ``complex``, ``Quantity``, ``string``, ``date``, ``time`` and\n",
    "``datetime``."
   ]
  },
  {
   "cell_type": "markdown",
   "id": "da6406e0",
   "metadata": {},
   "source": [
    "### Array Annotations\n",
    "-----------------\n",
    "\n",
    "Next to \"regular\" annotations there is also a way to annotate arrays of values\n",
    "in order to create annotations with one value per data point. Using this feature,\n",
    "called Array Annotations, the consistency of those annotations with the actual data\n",
    "is ensured.\n",
    "Apart from adding those on object construction, Array Annotations can also be added\n",
    "using the :meth:`array_annotate` method provided by all Neo data objects, e.g.::"
   ]
  },
  {
   "cell_type": "code",
   "execution_count": null,
   "id": "c6a928e0",
   "metadata": {},
   "outputs": [],
   "source": [
    "sptr = SpikeTrain(times=[1, 2, 3]*pq.s, t_stop=3*pq.s)\n",
    "sptr.array_annotate(index=[0, 1, 2], relevant=[True, False, True])\n",
    "sptr.array_annotations"
   ]
  },
  {
   "cell_type": "markdown",
   "id": "a0be3ea0",
   "metadata": {},
   "source": [
    "Since Array Annotations may be written to a file or database, there are some\n",
    "limitations on the data types of arrays: they must be 1-dimensional (i.e. not nested)\n",
    "and contain the same types as annotations:"
   ]
  },
  {
   "cell_type": "markdown",
   "id": "9015b7a2",
   "metadata": {},
   "source": [
    "``integer``, ``float``, ``complex``, ``Quantity``, ``string``, ``date``, ``time`` and ``datetime``."
   ]
  },
  {
   "cell_type": "code",
   "execution_count": null,
   "id": "d7eae257",
   "metadata": {},
   "outputs": [],
   "source": []
  }
 ],
 "metadata": {
  "kernelspec": {
   "display_name": "Python 3 (ipykernel)",
   "language": "python",
   "name": "python3"
  },
  "language_info": {
   "codemirror_mode": {
    "name": "ipython",
    "version": 3
   },
   "file_extension": ".py",
   "mimetype": "text/x-python",
   "name": "python",
   "nbconvert_exporter": "python",
   "pygments_lexer": "ipython3",
   "version": "3.7.13"
  }
 },
 "nbformat": 4,
 "nbformat_minor": 5
}
