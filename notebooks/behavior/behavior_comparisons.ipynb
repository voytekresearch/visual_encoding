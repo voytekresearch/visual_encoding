{
 "cells": [
  {
   "cell_type": "code",
   "execution_count": 1,
   "id": "37684e5c",
   "metadata": {},
   "outputs": [
    {
     "name": "stdout",
     "output_type": "stream",
     "text": [
      "Packages Imported\n"
     ]
    }
   ],
   "source": [
    "import numpy as np\n",
    "import pandas as pd\n",
    "\n",
    "print(\"Packages Imported\")"
   ]
  },
  {
   "cell_type": "code",
   "execution_count": null,
   "id": "d3f90269",
   "metadata": {},
   "outputs": [],
   "source": [
    "PROJECT_PATH = 'G:/Shared drives/visual_encoding'\n",
    "SPIKES_IN = 'data/spike_data/synchrony_data'\n",
    "LFP_IN = 'data/lfp_data/lfp_params'\n",
    "REPO_PATH = 'C:/Users/User/visual_encoding'"
   ]
  },
  {
   "cell_type": "code",
   "execution_count": null,
   "id": "b29198e1",
   "metadata": {},
   "outputs": [],
   "source": [
    "# load spike metric/behavioral data\n",
    "movie_synchrony_df = pd.read_csv(f'{PROJECT_PATH}/{SPIKES_IN}/VISp-LGd_natural_movie.csv')\n",
    "# load lfp psd data\n",
    "movie_lfp_df = pd.read_csv(f'{PROJECT_PATH}/{LFP_IN}/natural_movie/all_params.csv').drop(columns=\"Unnamed: 0\").drop(columns=\"Unnamed: 0.1\")"
   ]
  },
  {
   "cell_type": "code",
   "execution_count": null,
   "id": "cd22268e",
   "metadata": {},
   "outputs": [],
   "source": [
    "# Outline\n",
    "\n",
    "# in synchrony_analysis we looked at spike statistics compared between spontaneous and running states for \n",
    "# natural movie and spontaneous data\n",
    "\n",
    "\n",
    "# in this notebook we want to compare LFP metrics across these different states?\n",
    "\n",
    "# also get to segmenting arousal with pupil data"
   ]
  }
 ],
 "metadata": {
  "kernelspec": {
   "display_name": "Python 3 (ipykernel)",
   "language": "python",
   "name": "python3"
  },
  "language_info": {
   "codemirror_mode": {
    "name": "ipython",
    "version": 3
   },
   "file_extension": ".py",
   "mimetype": "text/x-python",
   "name": "python",
   "nbconvert_exporter": "python",
   "pygments_lexer": "ipython3",
   "version": "3.7.13"
  }
 },
 "nbformat": 4,
 "nbformat_minor": 5
}
