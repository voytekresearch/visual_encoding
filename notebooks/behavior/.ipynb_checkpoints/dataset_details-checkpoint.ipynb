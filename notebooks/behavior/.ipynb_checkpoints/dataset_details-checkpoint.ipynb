{
 "cells": [
  {
   "cell_type": "markdown",
   "metadata": {},
   "source": [
    "## Dataset\n",
    "#### Allen Institute for Brain Science: Visual Coding - Neuropixels\n",
    "\n",
    "© 2015 Allen Institute for Brain Science. Allen Brain Atlas API. Available from: https://portal.brain-map.org/explore/circuits/visual-coding-neuropixels)."
   ]
  },
  {
   "cell_type": "markdown",
   "metadata": {},
   "source": [
    "## Basic dataset details\n",
    "e.g. number of subjects, genotypes, and sexes"
   ]
  },
  {
   "cell_type": "markdown",
   "metadata": {},
   "source": [
    "##### Imports"
   ]
  },
  {
   "cell_type": "code",
   "execution_count": 1,
   "metadata": {},
   "outputs": [],
   "source": [
    "# imports\n",
    "from os.path import join\n",
    "\n",
    "import numpy as np\n",
    "import pandas as pd\n",
    "import matplotlib.pyplot as plt\n",
    "from scipy.signal import resample\n",
    "\n",
    "from allensdk.brain_observatory.ecephys.ecephys_project_cache import EcephysProjectCache"
   ]
  },
  {
   "cell_type": "markdown",
   "metadata": {},
   "source": [
    "##### Set up project "
   ]
  },
  {
   "cell_type": "code",
   "execution_count": 2,
   "metadata": {},
   "outputs": [],
   "source": [
    "# set manifest path and project cache\n",
    "MANIFEST PATH = '/micha/visual_encoding/ecephys_cache_dir/'\n",
    "project_cache = EcephysProjectCache.from_warehouse(manifest=join(MANIFEST_PATH, \"manifest.json\"))"
   ]
  },
  {
   "cell_type": "markdown",
   "metadata": {},
   "source": [
    "##### Identify session types"
   ]
  },
  {
   "cell_type": "code",
   "execution_count": 3,
   "metadata": {},
   "outputs": [
    {
     "name": "stdout",
     "output_type": "stream",
     "text": [
      "Session types:\n",
      "['brain_observatory_1.1' 'functional_connectivity']\n"
     ]
    }
   ],
   "source": [
    "session_types = project_cache.get_session_table()[\"session_type\"].unique()\n",
    "print('Session types:')\n",
    "print(session_types)"
   ]
  },
  {
   "cell_type": "markdown",
   "metadata": {},
   "source": [
    "#### Count subjects (by sex and genotype)"
   ]
  },
  {
   "cell_type": "code",
   "execution_count": 4,
   "metadata": {},
   "outputs": [],
   "source": [
    "# define function to count and print the number of subjects, including sex and genotype\n",
    "\n",
    "def subject_counts(project_cache, session_type):\n",
    "    # get sessions table\n",
    "    sessions_all = project_cache.get_session_table()\n",
    "    \n",
    "    # count session for chosen type\n",
    "    sessions = sessions_all[sessions_all[\"session_type\"] == session_type]\n",
    "    print('%s' %(session_type))\n",
    "    print('Total sessions: %d' %len(sessions))\n",
    "\n",
    "    # count subjects for each genotype and sex\n",
    "    for gt in np.unique(sessions['full_genotype']):\n",
    "        n = np.sum(sessions['full_genotype']==gt)\n",
    "        nM = np.sum([(sessions['full_genotype']==gt) & (sessions['sex']=='M')])\n",
    "        nF = np.sum([(sessions['full_genotype']==gt) & (sessions['sex']=='F')])\n",
    "\n",
    "        print('    ---------------------------------------------------------')\n",
    "        print('    Genotype: %s' %gt)\n",
    "        print('    Subjects: %d (%d females)' %(n, nF))"
   ]
  },
  {
   "cell_type": "code",
   "execution_count": 5,
   "metadata": {},
   "outputs": [
    {
     "name": "stdout",
     "output_type": "stream",
     "text": [
      "brain_observatory_1.1\n",
      "Total sessions: 32\n",
      "    ---------------------------------------------------------\n",
      "    Genotype: Pvalb-IRES-Cre/wt;Ai32(RCL-ChR2(H134R)_EYFP)/wt\n",
      "    Subjects: 5 (2 females)\n",
      "    ---------------------------------------------------------\n",
      "    Genotype: Sst-IRES-Cre/wt;Ai32(RCL-ChR2(H134R)_EYFP)/wt\n",
      "    Subjects: 6 (1 females)\n",
      "    ---------------------------------------------------------\n",
      "    Genotype: Vip-IRES-Cre/wt;Ai32(RCL-ChR2(H134R)_EYFP)/wt\n",
      "    Subjects: 5 (2 females)\n",
      "    ---------------------------------------------------------\n",
      "    Genotype: wt/wt\n",
      "    Subjects: 16 (0 females)\n"
     ]
    }
   ],
   "source": [
    "subject_counts(project_cache, session_types[0])"
   ]
  },
  {
   "cell_type": "code",
   "execution_count": 6,
   "metadata": {},
   "outputs": [
    {
     "name": "stdout",
     "output_type": "stream",
     "text": [
      "functional_connectivity\n",
      "Total sessions: 26\n",
      "    ---------------------------------------------------------\n",
      "    Genotype: Pvalb-IRES-Cre/wt;Ai32(RCL-ChR2(H134R)_EYFP)/wt\n",
      "    Subjects: 3 (0 females)\n",
      "    ---------------------------------------------------------\n",
      "    Genotype: Sst-IRES-Cre/wt;Ai32(RCL-ChR2(H134R)_EYFP)/wt\n",
      "    Subjects: 6 (3 females)\n",
      "    ---------------------------------------------------------\n",
      "    Genotype: Vip-IRES-Cre/wt;Ai32(RCL-ChR2(H134R)_EYFP)/wt\n",
      "    Subjects: 3 (2 females)\n",
      "    ---------------------------------------------------------\n",
      "    Genotype: wt/wt\n",
      "    Subjects: 14 (3 females)\n"
     ]
    }
   ],
   "source": [
    "subject_counts(project_cache, session_types[1])"
   ]
  },
  {
   "cell_type": "markdown",
   "metadata": {},
   "source": [
    "## Recording details\n",
    "brain regions, channel counts, and single-unit counts"
   ]
  },
  {
   "cell_type": "markdown",
   "metadata": {},
   "source": [
    "##### Identify brain regions recorded"
   ]
  },
  {
   "cell_type": "code",
   "execution_count": 7,
   "metadata": {},
   "outputs": [
    {
     "name": "stdout",
     "output_type": "stream",
     "text": [
      "Total brain regions recorded: 62\n",
      "\n",
      "Region Acronyms:\n",
      "['APN' 'LP' 'MB' 'DG' 'CA1' 'VISrl' nan 'TH' 'LGd' 'CA3' 'VIS' 'CA2'\n",
      " 'ProS' 'VISp' 'POL' 'VISpm' 'PPT' 'OP' 'NOT' 'HPF' 'SUB' 'VISam' 'ZI'\n",
      " 'LGv' 'VISal' 'VISl' 'SGN' 'SCig' 'MGm' 'MGv' 'VPM' 'grey' 'Eth' 'VPL'\n",
      " 'IGL' 'PP' 'PIL' 'PO' 'VISmma' 'POST' 'SCop' 'SCsg' 'SCzo' 'COApm' 'OLF'\n",
      " 'BMAa' 'SCiw' 'COAa' 'IntG' 'MGd' 'MRN' 'LD' 'VISmmp' 'CP' 'VISli' 'PRE'\n",
      " 'RPF' 'LT' 'PF' 'PoT' 'VL' 'RT']\n"
     ]
    }
   ],
   "source": [
    "# Print number of channels and their acronyms\n",
    "regions = project_cache.get_channels().ecephys_structure_acronym.unique()\n",
    "\n",
    "print(\"Total brain regions recorded: %d\" %len(regions))\n",
    "print(\"\\nRegion Acronyms:\")\n",
    "print(regions)"
   ]
  },
  {
   "cell_type": "markdown",
   "metadata": {},
   "source": [
    "##### Count recording channels and units "
   ]
  },
  {
   "cell_type": "code",
   "execution_count": 8,
   "metadata": {},
   "outputs": [],
   "source": [
    "# define function to count the number of channels and units in a brain region of interst\n",
    "\n",
    "def region_counts(project_cache, region):\n",
    "    # This function counts the number of channels and units in a brain region\n",
    "    \n",
    "    # unpack project chache\n",
    "    channels = project_cache.get_channels()\n",
    "    units = project_cache.get_units()\n",
    "    \n",
    "    # count units for a single region\n",
    "    if type(region) == str:\n",
    "        # get channels for chosen region\n",
    "        chans = channels[(channels.ecephys_structure_acronym==region)]\n",
    "\n",
    "        # count units for each channel\n",
    "        total_units = np.zeros(len(chans))\n",
    "        for ii, chan_id in enumerate(chans.index):\n",
    "            total_units[ii] = np.sum(units.ecephys_channel_id == chan_id)\n",
    "\n",
    "        # count channels and sum number of units across channels channels\n",
    "        n_channels = len(chans)\n",
    "        n_units = int(np.sum(total_units))\n",
    "        \n",
    "    # count units for a list of regions\n",
    "    elif (type(region) == np.ndarray) or (type(region) == list) or (type(region) == tuple):\n",
    "        # create empty array for each region\n",
    "        n_channels = np.zeros(len(region))\n",
    "        n_units = np.zeros(len(region))\n",
    "        \n",
    "        # loop through each region of interest\n",
    "        for rr, reg in enumerate(region):\n",
    "            # get channels for chosen region\n",
    "            chans = channels[(channels.ecephys_structure_acronym==reg)]\n",
    "\n",
    "            # count units for each channel\n",
    "            total_units = np.zeros(len(chans))\n",
    "            for ii, chan_id in enumerate(chans.index):\n",
    "                total_units[ii] = np.sum(units.ecephys_channel_id == chan_id)\n",
    "\n",
    "            # count channels and sum number of units across channels channels\n",
    "            n_channels[rr] = len(chans)\n",
    "            n_units[rr] = int(np.sum(total_units))\n",
    "        \n",
    "    return n_channels, n_units"
   ]
  },
  {
   "cell_type": "code",
   "execution_count": 9,
   "metadata": {},
   "outputs": [
    {
     "name": "stdout",
     "output_type": "stream",
     "text": [
      "------------------------------\n",
      "VISp\n",
      "Channel count: 5155\n",
      "Unit count: 3694\n",
      "------------------------------\n",
      "LGd\n",
      "Channel count: 1786\n",
      "Unit count: 1306\n"
     ]
    }
   ],
   "source": [
    "# count channels and units for an example brain region\n",
    "\n",
    "# Pick example regions\n",
    "for reg in ['VISp', 'LGd']:\n",
    "    # count channels and units\n",
    "    n_channels, n_units = region_counts(project_cache, reg)\n",
    "\n",
    "    # print results\n",
    "    print('------------------------------')\n",
    "    print(reg)\n",
    "    print('Channel count: %d' %n_channels)\n",
    "    print('Unit count: %d' %n_units)"
   ]
  },
  {
   "cell_type": "code",
   "execution_count": 10,
   "metadata": {},
   "outputs": [
    {
     "data": {
      "image/png": "[encoded data removed]",
      "text/plain": [
       "<Figure size 1152x576 with 2 Axes>"
      ]
     },
     "metadata": {
      "needs_background": "light"
     },
     "output_type": "display_data"
    }
   ],
   "source": [
    "# count channels and units in all brain regions recorded and plot results\n",
    "\n",
    "n_channels, n_units = region_counts(project_cache, regions)\n",
    "\n",
    "# plot channel and unit counts\n",
    "fig, (ax_1, ax_2) = plt.subplots(2,1, figsize=[16,8], tight_layout=True)\n",
    "X = np.linspace(0, len(regions)-1, len(regions))\n",
    "\n",
    "ax_1.bar(X, n_channels)\n",
    "ax_1.set_ylabel('channel count')\n",
    "ax_1.set_xlabel('brain region')\n",
    "ax_1.set_xticks(X)\n",
    "ax_1.set_xticklabels(regions, rotation = 90)\n",
    "\n",
    "ax_2.bar(X, n_units)\n",
    "ax_2.set_ylabel('unit count')\n",
    "ax_2.set_xlabel('brain region');\n",
    "ax_2.set_xticks(X)\n",
    "ax_2.set_xticklabels(regions, rotation = 90);"
   ]
  },
  {
   "cell_type": "code",
   "execution_count": null,
   "metadata": {},
   "outputs": [],
   "source": []
  },
  {
   "cell_type": "code",
   "execution_count": null,
   "metadata": {},
   "outputs": [],
   "source": []
  },
  {
   "cell_type": "code",
   "execution_count": null,
   "metadata": {},
   "outputs": [],
   "source": []
  },
  {
   "cell_type": "code",
   "execution_count": null,
   "metadata": {},
   "outputs": [],
   "source": []
  },
  {
   "cell_type": "code",
   "execution_count": null,
   "metadata": {},
   "outputs": [],
   "source": []
  },
  {
   "cell_type": "code",
   "execution_count": null,
   "metadata": {},
   "outputs": [],
   "source": []
  },
  {
   "cell_type": "code",
   "execution_count": null,
   "metadata": {},
   "outputs": [],
   "source": []
  }
 ],
 "metadata": {
  "kernelspec": {
   "display_name": "Python 3",
   "language": "python",
   "name": "python3"
  },
  "language_info": {
   "codemirror_mode": {
    "name": "ipython",
    "version": 3
   },
   "file_extension": ".py",
   "mimetype": "text/x-python",
   "name": "python",
   "nbconvert_exporter": "python",
   "pygments_lexer": "ipython3",
   "version": "3.8.3"
  }
 },
 "nbformat": 4,
 "nbformat_minor": 4
}
