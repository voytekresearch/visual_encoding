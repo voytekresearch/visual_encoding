{
 "cells": [
  {
   "attachments": {},
   "cell_type": "markdown",
   "metadata": {},
   "source": [
    "# Plot running-wheel data\n",
    "This script imports Neo Blocks created by code/step2_create_stimulus_segments.py and plots the running_wheel data for each segment.\n",
    "\n",
    "Dataset: Allen Institute for Brain Science: Visual Coding - Neuropixels  \n",
    "© 2015 Allen Institute for Brain Science. Allen Brain Atlas API. Available from: https://portal.brain-map.org/explore/circuits/visual-coding-neuropixels"
   ]
  },
  {
   "attachments": {},
   "cell_type": "markdown",
   "metadata": {},
   "source": [
    "## Set-up"
   ]
  },
  {
   "attachments": {},
   "cell_type": "markdown",
   "metadata": {},
   "source": [
    "### set paths"
   ]
  },
  {
   "cell_type": "code",
   "execution_count": null,
   "metadata": {},
   "outputs": [],
   "source": [
    "# set paths\n",
    "PROJECT_PATH = \"G:/Shared drives/visual_encoding\" # shared results directory"
   ]
  },
  {
   "attachments": {},
   "cell_type": "markdown",
   "metadata": {},
   "source": [
    "### imports"
   ]
  },
  {
   "cell_type": "code",
   "execution_count": null,
   "metadata": {},
   "outputs": [],
   "source": [
    "%load_ext autoreload\n",
    "%autoreload 2"
   ]
  },
  {
   "cell_type": "code",
   "execution_count": null,
   "metadata": {},
   "outputs": [],
   "source": [
    "# general imports\n",
    "import os\n",
    "import numpy as np\n",
    "import pandas as pd\n",
    "import neo"
   ]
  },
  {
   "cell_type": "code",
   "execution_count": null,
   "metadata": {},
   "outputs": [],
   "source": [
    "# custom imports\n",
    "import sys\n",
    "sys.path.append(\"../../\")\n",
    "from allen_vc.plots import running_segment_plot"
   ]
  },
  {
   "attachments": {},
   "cell_type": "markdown",
   "metadata": {},
   "source": [
    "### settings"
   ]
  },
  {
   "cell_type": "code",
   "execution_count": null,
   "metadata": {},
   "outputs": [],
   "source": [
    "STIM_CODES = ['natural_movie_one_more_repeats', 'natural_movie_one_shuffled']\n"
   ]
  },
  {
   "attachments": {},
   "cell_type": "markdown",
   "metadata": {},
   "source": [
    "## Main"
   ]
  },
  {
   "attachments": {},
   "cell_type": "markdown",
   "metadata": {},
   "source": [
    "### Plot Running Data\n"
   ]
  },
  {
   "cell_type": "code",
   "execution_count": null,
   "metadata": {},
   "outputs": [],
   "source": [
    "# define plotting function\n",
    "\n",
    "def plot_running(stim_code):\n",
    "    # define/create directories\n",
    "    path_in = f\"{PROJECT_PATH}/data/blocks/segmented/{stim_code}\"\n",
    "    files = os.listdir(path_in)\n",
    "    path_out = f\"{PROJECT_PATH}/figures/behavior/running/{stim_code}\" # where to save figs\n",
    "    if not os.path.exists(path_out): \n",
    "        os.makedirs(path_out)\n",
    "\n",
    "    # loop through files\n",
    "    for i_file, fname in enumerate(files):\n",
    "        print(f\"Analyzing: {fname} (file {i_file+1}/{len(files)})\")\n",
    "\n",
    "        # load segmented Neo Block for session (Step 2 results)\n",
    "        block = neo.io.NeoMatlabIO(f\"{path_in}/{fname}\").read_block()\n",
    "\n",
    "        # plot running data\n",
    "        session_id = fname.split('_')[1].split('.')[0]\n",
    "        fname_out = f\"{path_out}/running_{session_id}.png\"\n",
    "        running_segment_plot(block, fname_out=fname_out, show=False, verbose=False)\n"
   ]
  },
  {
   "cell_type": "code",
   "execution_count": null,
   "metadata": {},
   "outputs": [],
   "source": [
    "# Plot running data\n",
    "\n",
    "for stim_code in STIM_CODES:\n",
    "    print(f\"\\nAnalyzing stimulus: {stim_code}\")\n",
    "    \n",
    "    plot_running(stim_code)"
   ]
  }
 ],
 "metadata": {
  "kernelspec": {
   "display_name": "Python 3.10.4",
   "language": "python",
   "name": "python3"
  },
  "language_info": {
   "codemirror_mode": {
    "name": "ipython",
    "version": 3
   },
   "file_extension": ".py",
   "mimetype": "text/x-python",
   "name": "python",
   "nbconvert_exporter": "python",
   "pygments_lexer": "ipython3",
   "version": "3.7.13"
  },
  "vscode": {
   "interpreter": {
    "hash": "f5fd9da17ee4993e2780077aef4de0048fa286441c8a1eb81e5b3b8c8609499a"
   }
  }
 },
 "nbformat": 4,
 "nbformat_minor": 4
}
