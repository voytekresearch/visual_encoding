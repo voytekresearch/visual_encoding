{
 "cells": [
  {
   "cell_type": "code",
   "execution_count": null,
   "metadata": {},
   "outputs": [],
   "source": []
  },
  {
   "cell_type": "markdown",
   "metadata": {},
   "source": [
    "### Dataset"
   ]
  },
  {
   "cell_type": "markdown",
   "metadata": {},
   "source": [
    "#### Allen Institute for Brain Science: Visual Coding - Neuropixels\n",
    "\n",
    "© 2015 Allen Institute for Brain Science. Allen Brain Atlas API. Available from: https://portal.brain-map.org/explore/circuits/visual-coding-neuropixels)."
   ]
  },
  {
   "cell_type": "markdown",
   "metadata": {},
   "source": [
    "## Basic dataset details\n",
    "e.g. number of subjects, genotypes, and sexes"
   ]
  },
  {
   "cell_type": "markdown",
   "metadata": {},
   "source": [
    "##### Imports"
   ]
  },
  {
   "cell_type": "code",
   "execution_count": 1,
   "metadata": {},
   "outputs": [],
   "source": [
    "# imports\n",
    "from os.path import join\n",
    "\n",
    "import numpy as np\n",
    "import pandas as pd\n",
    "import matplotlib.pyplot as plt\n",
    "from scipy.signal import resample\n",
    "\n",
    "from allensdk.brain_observatory.ecephys.ecephys_project_cache import EcephysProjectCache"
   ]
  },
  {
   "cell_type": "markdown",
   "metadata": {},
   "source": [
    "##### Load session data"
   ]
  },
  {
   "cell_type": "code",
   "execution_count": 4,
   "metadata": {},
   "outputs": [
    {
     "name": "stdout",
     "output_type": "stream",
     "text": [
      "Number of sessions (subjects): 32\n"
     ]
    }
   ],
   "source": [
    "# set manifest path and project cache\n",
    "manifest_path = join('/micha/visual_encoding/ecephys_cache_dir/', \"manifest.json\")\n",
    "cache = EcephysProjectCache.from_warehouse(manifest=manifest_path)\n",
    "\n",
    "# get session info for Brain Observatory sessions\n",
    "sessions_all = cache.get_session_table()\n",
    "sessions = sessions_all[sessions_all[\"session_type\"] == \"brain_observatory_1.1\"] # \"functional_connectivity\"] # \n",
    "session_ids = sessions.index\n",
    "\n",
    "# print number of sessions\n",
    "print('Number of sessions (subjects): %d' %len(sessions))"
   ]
  },
  {
   "cell_type": "markdown",
   "metadata": {},
   "source": [
    "#### Sex and genotype"
   ]
  },
  {
   "cell_type": "code",
   "execution_count": 5,
   "metadata": {},
   "outputs": [
    {
     "name": "stdout",
     "output_type": "stream",
     "text": [
      "---------------------------------------------------------\n",
      "Genotype: Pvalb-IRES-Cre/wt;Ai32(RCL-ChR2(H134R)_EYFP)/wt\n",
      "Subjects: 5 (2 females)\n",
      "---------------------------------------------------------\n",
      "Genotype: Sst-IRES-Cre/wt;Ai32(RCL-ChR2(H134R)_EYFP)/wt\n",
      "Subjects: 6 (1 females)\n",
      "---------------------------------------------------------\n",
      "Genotype: Vip-IRES-Cre/wt;Ai32(RCL-ChR2(H134R)_EYFP)/wt\n",
      "Subjects: 5 (2 females)\n",
      "---------------------------------------------------------\n",
      "Genotype: wt/wt\n",
      "Subjects: 16 (0 females)\n"
     ]
    }
   ],
   "source": [
    "for gt in np.unique(sessions['full_genotype']):\n",
    "    n = np.sum(sessions['full_genotype']==gt)\n",
    "    nM = np.sum([(sessions['full_genotype']==gt) & (sessions['sex']=='M')])\n",
    "    nF = np.sum([(sessions['full_genotype']==gt) & (sessions['sex']=='F')])\n",
    "    \n",
    "    print('---------------------------------------------------------')\n",
    "    print('Genotype: %s' %gt)\n",
    "    print('Subjects: %d (%d females)' %(n, nF))\n"
   ]
  },
  {
   "cell_type": "code",
   "execution_count": null,
   "metadata": {},
   "outputs": [],
   "source": []
  }
 ],
 "metadata": {
  "kernelspec": {
   "display_name": "Python 3",
   "language": "python",
   "name": "python3"
  },
  "language_info": {
   "codemirror_mode": {
    "name": "ipython",
    "version": 3
   },
   "file_extension": ".py",
   "mimetype": "text/x-python",
   "name": "python",
   "nbconvert_exporter": "python",
   "pygments_lexer": "ipython3",
   "version": "3.8.3"
  }
 },
 "nbformat": 4,
 "nbformat_minor": 4
}
