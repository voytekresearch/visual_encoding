{
 "cells": [
  {
   "cell_type": "markdown",
   "id": "22a5098a",
   "metadata": {},
   "source": [
    "## Imports"
   ]
  },
  {
   "cell_type": "code",
   "execution_count": 52,
   "id": "b3974c83",
   "metadata": {},
   "outputs": [
    {
     "name": "stdout",
     "output_type": "stream",
     "text": [
      "Packages Imported!\n"
     ]
    }
   ],
   "source": [
    "import os\n",
    "import numpy as np\n",
    "import pandas as pd\n",
    "\n",
    "import matplotlib.pyplot as plt\n",
    "from allensdk.brain_observatory.ecephys.ecephys_project_cache import EcephysProjectCache\n",
    "\n",
    "from sklearn.mixture import GaussianMixture\n",
    "\n",
    "print(\"Packages Imported!\")"
   ]
  },
  {
   "cell_type": "markdown",
   "id": "3edde8bb",
   "metadata": {},
   "source": [
    "## Settings"
   ]
  },
  {
   "cell_type": "code",
   "execution_count": 1,
   "id": "c89ba0c7",
   "metadata": {},
   "outputs": [],
   "source": [
    "MANIFEST_PATH = \"E:/datasets/allen_vc/manifest_files/manifest.json\"\n",
    "# MANIFEST_PATH = \"D:/datasets/allen_vc/manifest.json\"\n",
    "PROJECT_PATH = \"G:/Shared drives/visual_encoding\"\n",
    "REPO_PATH = 'C:/Users/User/visual_encoding'\n",
    "# REPO_PATH = 'C:/Users/micha/projects/visual_encoding'\n",
    "DATA_PATH = \"G:/Shared drives/visual_encoding/data/optotagging_data/concat\""
   ]
  },
  {
   "cell_type": "markdown",
   "id": "30f55910",
   "metadata": {},
   "source": [
    "## Functions"
   ]
  },
  {
   "cell_type": "code",
   "execution_count": 3,
   "id": "4f6d45f3",
   "metadata": {},
   "outputs": [],
   "source": [
    "#tbd"
   ]
  },
  {
   "cell_type": "markdown",
   "id": "50fd2cd3",
   "metadata": {},
   "source": [
    "## Load Data"
   ]
  },
  {
   "cell_type": "code",
   "execution_count": 4,
   "id": "c9d2b922",
   "metadata": {},
   "outputs": [],
   "source": [
    "# load optotagging response data\n",
    "\n",
    "# load waveform data\n",
    "\n",
    "# concatenate and train model!"
   ]
  },
  {
   "cell_type": "code",
   "execution_count": 4,
   "id": "626db8da",
   "metadata": {},
   "outputs": [],
   "source": [
    "# Create Allensdk cache object\n",
    "cache = EcephysProjectCache.from_warehouse(manifest=MANIFEST_PATH)\n",
    "\n",
    "# Isolate functional connectivity sections\n",
    "sessions = cache.get_session_table()\n",
    "functional_connectivity_sessions = sessions[sessions['session_type'] == 'functional_connectivity']"
   ]
  },
  {
   "cell_type": "code",
   "execution_count": 7,
   "id": "51c7561f",
   "metadata": {},
   "outputs": [
    {
     "data": {
      "text/html": [
       "<div>\n",
       "<style scoped>\n",
       "    .dataframe tbody tr th:only-of-type {\n",
       "        vertical-align: middle;\n",
       "    }\n",
       "\n",
       "    .dataframe tbody tr th {\n",
       "        vertical-align: top;\n",
       "    }\n",
       "\n",
       "    .dataframe thead th {\n",
       "        text-align: right;\n",
       "    }\n",
       "</style>\n",
       "<table border=\"1\" class=\"dataframe\">\n",
       "  <thead>\n",
       "    <tr style=\"text-align: right;\">\n",
       "      <th></th>\n",
       "      <th>unit_id</th>\n",
       "      <th>ecephys_structure_acronym</th>\n",
       "      <th>genotype</th>\n",
       "      <th>opto_stimulus</th>\n",
       "      <th>response_reliability</th>\n",
       "      <th>stim_level</th>\n",
       "      <th>stim_name</th>\n",
       "    </tr>\n",
       "  </thead>\n",
       "  <tbody>\n",
       "    <tr>\n",
       "      <th>0</th>\n",
       "      <td>950922446</td>\n",
       "      <td>VISp</td>\n",
       "      <td>wt/wt</td>\n",
       "      <td>fast_pulses_1.0s_1</td>\n",
       "      <td>0.533333</td>\n",
       "      <td>1</td>\n",
       "      <td>fast_pulses_1.0s</td>\n",
       "    </tr>\n",
       "    <tr>\n",
       "      <th>1</th>\n",
       "      <td>950922495</td>\n",
       "      <td>VISp</td>\n",
       "      <td>wt/wt</td>\n",
       "      <td>fast_pulses_1.0s_1</td>\n",
       "      <td>0.133333</td>\n",
       "      <td>1</td>\n",
       "      <td>fast_pulses_1.0s</td>\n",
       "    </tr>\n",
       "    <tr>\n",
       "      <th>2</th>\n",
       "      <td>950922511</td>\n",
       "      <td>VISp</td>\n",
       "      <td>wt/wt</td>\n",
       "      <td>fast_pulses_1.0s_1</td>\n",
       "      <td>0.200000</td>\n",
       "      <td>1</td>\n",
       "      <td>fast_pulses_1.0s</td>\n",
       "    </tr>\n",
       "    <tr>\n",
       "      <th>3</th>\n",
       "      <td>950922546</td>\n",
       "      <td>VISp</td>\n",
       "      <td>wt/wt</td>\n",
       "      <td>fast_pulses_1.0s_1</td>\n",
       "      <td>0.133333</td>\n",
       "      <td>1</td>\n",
       "      <td>fast_pulses_1.0s</td>\n",
       "    </tr>\n",
       "    <tr>\n",
       "      <th>4</th>\n",
       "      <td>950922579</td>\n",
       "      <td>VISp</td>\n",
       "      <td>wt/wt</td>\n",
       "      <td>fast_pulses_1.0s_1</td>\n",
       "      <td>0.200000</td>\n",
       "      <td>1</td>\n",
       "      <td>fast_pulses_1.0s</td>\n",
       "    </tr>\n",
       "  </tbody>\n",
       "</table>\n",
       "</div>"
      ],
      "text/plain": [
       "     unit_id ecephys_structure_acronym genotype       opto_stimulus  \\\n",
       "0  950922446                      VISp    wt/wt  fast_pulses_1.0s_1   \n",
       "1  950922495                      VISp    wt/wt  fast_pulses_1.0s_1   \n",
       "2  950922511                      VISp    wt/wt  fast_pulses_1.0s_1   \n",
       "3  950922546                      VISp    wt/wt  fast_pulses_1.0s_1   \n",
       "4  950922579                      VISp    wt/wt  fast_pulses_1.0s_1   \n",
       "\n",
       "   response_reliability  stim_level         stim_name  \n",
       "0              0.533333           1  fast_pulses_1.0s  \n",
       "1              0.133333           1  fast_pulses_1.0s  \n",
       "2              0.200000           1  fast_pulses_1.0s  \n",
       "3              0.133333           1  fast_pulses_1.0s  \n",
       "4              0.200000           1  fast_pulses_1.0s  "
      ]
     },
     "execution_count": 7,
     "metadata": {},
     "output_type": "execute_result"
    }
   ],
   "source": [
    "# optotagging response data\n",
    "opto_df = pd.read_csv(f'{DATA_PATH}/all_stimuli_rr.csv')\n",
    "opto_df.head()"
   ]
  },
  {
   "cell_type": "code",
   "execution_count": 15,
   "id": "6feb726b",
   "metadata": {},
   "outputs": [
    {
     "data": {
      "text/plain": [
       "array(['fast_pulses_1.0s_1', 'fast_pulses_1.0s_2', 'fast_pulses_1.0s_3',\n",
       "       'pulse_0.0049999999991996455s_1', 'pulse_0.0049999999991996455s_2',\n",
       "       'pulse_0.0049999999991996455s_3', 'pulse_0.01000000000021828s_1',\n",
       "       'pulse_0.01000000000021828s_2', 'pulse_0.01000000000021828s_3',\n",
       "       'raised_cosine_1.0s_1', 'raised_cosine_1.0s_2',\n",
       "       'raised_cosine_1.0s_3'], dtype=object)"
      ]
     },
     "execution_count": 15,
     "metadata": {},
     "output_type": "execute_result"
    }
   ],
   "source": [
    "opto_df['opto_stimulus'].unique()"
   ]
  },
  {
   "cell_type": "code",
   "execution_count": 41,
   "id": "ab560d9d",
   "metadata": {},
   "outputs": [
    {
     "data": {
      "text/plain": [
       "<function pandas.core.reshape.merge.merge(left: 'DataFrame | Series', right: 'DataFrame | Series', how: 'str' = 'inner', on: 'IndexLabel | None' = None, left_on: 'IndexLabel | None' = None, right_on: 'IndexLabel | None' = None, left_index: 'bool' = False, right_index: 'bool' = False, sort: 'bool' = False, suffixes: 'Suffixes' = ('_x', '_y'), copy: 'bool' = True, indicator: 'bool' = False, validate: 'str | None' = None) -> 'DataFrame'>"
      ]
     },
     "execution_count": 41,
     "metadata": {},
     "output_type": "execute_result"
    }
   ],
   "source": [
    "pd.merge"
   ]
  },
  {
   "cell_type": "code",
   "execution_count": 42,
   "id": "e77f127a",
   "metadata": {},
   "outputs": [
    {
     "name": "stdout",
     "output_type": "stream",
     "text": [
      "\t Computing Session: 766640955\n",
      "\t Computing Session: 767871931\n",
      "\t Computing Session: 768515987\n",
      "\t Computing Session: 771160300\n",
      "\t Computing Session: 771990200\n",
      "\t Computing Session: 774875821\n",
      "\t Computing Session: 778240327\n",
      "\t Computing Session: 778998620\n",
      "\t Computing Session: 779839471\n",
      "\t Computing Session: 781842082\n",
      "\t Computing Session: 786091066\n",
      "\t Computing Session: 787025148\n",
      "\t Computing Session: 789848216\n",
      "\t Computing Session: 793224716\n",
      "\t Computing Session: 794812542\n",
      "\t Computing Session: 816200189\n",
      "\t Computing Session: 819186360\n",
      "\t Computing Session: 819701982\n",
      "\t Computing Session: 821695405\n",
      "\t Computing Session: 829720705\n",
      "\t Computing Session: 831882777\n",
      "\t Computing Session: 835479236\n",
      "\t Computing Session: 839068429\n",
      "\t Computing Session: 839557629\n",
      "\t Computing Session: 840012044\n",
      "\t Computing Session: 847657808\n"
     ]
    }
   ],
   "source": [
    "stim = 'pulse_0.01000000000021828s_3'\n",
    "waveform_features = ['waveform_duration']\n",
    "stim_df = opto_df[opto_df['opto_stimulus'] == stim].copy()\n",
    "sub_dfs = []\n",
    "\n",
    "# load units, select relevant features, left join with opto_df\n",
    "for session_id in functional_connectivity_sessions.index:\n",
    "    \n",
    "    print(f'\\t Computing Session: {session_id}')\n",
    "    \n",
    "    session = cache.get_session_data(session_id)\n",
    "    units = session.units.reset_index()\n",
    "\n",
    "    sub_dfs.append(stim_df.merge(units[['unit_id'] + waveform_features], how='left', on='unit_id').dropna(axis=0))\n",
    "    \n",
    "rwv_df = pd.concat(sub_dfs)"
   ]
  },
  {
   "cell_type": "code",
   "execution_count": 43,
   "id": "7a346144",
   "metadata": {},
   "outputs": [
    {
     "data": {
      "text/html": [
       "<div>\n",
       "<style scoped>\n",
       "    .dataframe tbody tr th:only-of-type {\n",
       "        vertical-align: middle;\n",
       "    }\n",
       "\n",
       "    .dataframe tbody tr th {\n",
       "        vertical-align: top;\n",
       "    }\n",
       "\n",
       "    .dataframe thead th {\n",
       "        text-align: right;\n",
       "    }\n",
       "</style>\n",
       "<table border=\"1\" class=\"dataframe\">\n",
       "  <thead>\n",
       "    <tr style=\"text-align: right;\">\n",
       "      <th></th>\n",
       "      <th>unit_id</th>\n",
       "      <th>ecephys_structure_acronym</th>\n",
       "      <th>genotype</th>\n",
       "      <th>opto_stimulus</th>\n",
       "      <th>response_reliability</th>\n",
       "      <th>stim_level</th>\n",
       "      <th>stim_name</th>\n",
       "      <th>waveform_duration</th>\n",
       "    </tr>\n",
       "  </thead>\n",
       "  <tbody>\n",
       "    <tr>\n",
       "      <th>117</th>\n",
       "      <td>950929267</td>\n",
       "      <td>VISp</td>\n",
       "      <td>wt/wt</td>\n",
       "      <td>pulse_0.01000000000021828s_3</td>\n",
       "      <td>0.000000</td>\n",
       "      <td>3</td>\n",
       "      <td>pulse_0.01000000000021828s</td>\n",
       "      <td>0.302178</td>\n",
       "    </tr>\n",
       "    <tr>\n",
       "      <th>118</th>\n",
       "      <td>950929283</td>\n",
       "      <td>VISp</td>\n",
       "      <td>wt/wt</td>\n",
       "      <td>pulse_0.01000000000021828s_3</td>\n",
       "      <td>0.000000</td>\n",
       "      <td>3</td>\n",
       "      <td>pulse_0.01000000000021828s</td>\n",
       "      <td>0.549414</td>\n",
       "    </tr>\n",
       "    <tr>\n",
       "      <th>119</th>\n",
       "      <td>950929299</td>\n",
       "      <td>VISp</td>\n",
       "      <td>wt/wt</td>\n",
       "      <td>pulse_0.01000000000021828s_3</td>\n",
       "      <td>0.000000</td>\n",
       "      <td>3</td>\n",
       "      <td>pulse_0.01000000000021828s</td>\n",
       "      <td>0.988945</td>\n",
       "    </tr>\n",
       "    <tr>\n",
       "      <th>127</th>\n",
       "      <td>950929417</td>\n",
       "      <td>VISp</td>\n",
       "      <td>wt/wt</td>\n",
       "      <td>pulse_0.01000000000021828s_3</td>\n",
       "      <td>0.066667</td>\n",
       "      <td>3</td>\n",
       "      <td>pulse_0.01000000000021828s</td>\n",
       "      <td>0.837856</td>\n",
       "    </tr>\n",
       "    <tr>\n",
       "      <th>128</th>\n",
       "      <td>950929433</td>\n",
       "      <td>VISp</td>\n",
       "      <td>wt/wt</td>\n",
       "      <td>pulse_0.01000000000021828s_3</td>\n",
       "      <td>0.066667</td>\n",
       "      <td>3</td>\n",
       "      <td>pulse_0.01000000000021828s</td>\n",
       "      <td>0.631826</td>\n",
       "    </tr>\n",
       "    <tr>\n",
       "      <th>...</th>\n",
       "      <td>...</td>\n",
       "      <td>...</td>\n",
       "      <td>...</td>\n",
       "      <td>...</td>\n",
       "      <td>...</td>\n",
       "      <td>...</td>\n",
       "      <td>...</td>\n",
       "      <td>...</td>\n",
       "    </tr>\n",
       "    <tr>\n",
       "      <th>1674</th>\n",
       "      <td>951187345</td>\n",
       "      <td>VISp</td>\n",
       "      <td>wt/wt</td>\n",
       "      <td>pulse_0.01000000000021828s_3</td>\n",
       "      <td>0.120000</td>\n",
       "      <td>3</td>\n",
       "      <td>pulse_0.01000000000021828s</td>\n",
       "      <td>0.192295</td>\n",
       "    </tr>\n",
       "    <tr>\n",
       "      <th>1675</th>\n",
       "      <td>951187357</td>\n",
       "      <td>VISp</td>\n",
       "      <td>wt/wt</td>\n",
       "      <td>pulse_0.01000000000021828s_3</td>\n",
       "      <td>0.000000</td>\n",
       "      <td>3</td>\n",
       "      <td>pulse_0.01000000000021828s</td>\n",
       "      <td>0.755444</td>\n",
       "    </tr>\n",
       "    <tr>\n",
       "      <th>1676</th>\n",
       "      <td>951187369</td>\n",
       "      <td>VISp</td>\n",
       "      <td>wt/wt</td>\n",
       "      <td>pulse_0.01000000000021828s_3</td>\n",
       "      <td>0.160000</td>\n",
       "      <td>3</td>\n",
       "      <td>pulse_0.01000000000021828s</td>\n",
       "      <td>0.233501</td>\n",
       "    </tr>\n",
       "    <tr>\n",
       "      <th>1677</th>\n",
       "      <td>951187421</td>\n",
       "      <td>VISp</td>\n",
       "      <td>wt/wt</td>\n",
       "      <td>pulse_0.01000000000021828s_3</td>\n",
       "      <td>0.000000</td>\n",
       "      <td>3</td>\n",
       "      <td>pulse_0.01000000000021828s</td>\n",
       "      <td>0.590620</td>\n",
       "    </tr>\n",
       "    <tr>\n",
       "      <th>1678</th>\n",
       "      <td>951187457</td>\n",
       "      <td>VISp</td>\n",
       "      <td>wt/wt</td>\n",
       "      <td>pulse_0.01000000000021828s_3</td>\n",
       "      <td>0.000000</td>\n",
       "      <td>3</td>\n",
       "      <td>pulse_0.01000000000021828s</td>\n",
       "      <td>0.260972</td>\n",
       "    </tr>\n",
       "  </tbody>\n",
       "</table>\n",
       "<p>1679 rows × 8 columns</p>\n",
       "</div>"
      ],
      "text/plain": [
       "        unit_id ecephys_structure_acronym genotype  \\\n",
       "117   950929267                      VISp    wt/wt   \n",
       "118   950929283                      VISp    wt/wt   \n",
       "119   950929299                      VISp    wt/wt   \n",
       "127   950929417                      VISp    wt/wt   \n",
       "128   950929433                      VISp    wt/wt   \n",
       "...         ...                       ...      ...   \n",
       "1674  951187345                      VISp    wt/wt   \n",
       "1675  951187357                      VISp    wt/wt   \n",
       "1676  951187369                      VISp    wt/wt   \n",
       "1677  951187421                      VISp    wt/wt   \n",
       "1678  951187457                      VISp    wt/wt   \n",
       "\n",
       "                     opto_stimulus  response_reliability  stim_level  \\\n",
       "117   pulse_0.01000000000021828s_3              0.000000           3   \n",
       "118   pulse_0.01000000000021828s_3              0.000000           3   \n",
       "119   pulse_0.01000000000021828s_3              0.000000           3   \n",
       "127   pulse_0.01000000000021828s_3              0.066667           3   \n",
       "128   pulse_0.01000000000021828s_3              0.066667           3   \n",
       "...                            ...                   ...         ...   \n",
       "1674  pulse_0.01000000000021828s_3              0.120000           3   \n",
       "1675  pulse_0.01000000000021828s_3              0.000000           3   \n",
       "1676  pulse_0.01000000000021828s_3              0.160000           3   \n",
       "1677  pulse_0.01000000000021828s_3              0.000000           3   \n",
       "1678  pulse_0.01000000000021828s_3              0.000000           3   \n",
       "\n",
       "                       stim_name  waveform_duration  \n",
       "117   pulse_0.01000000000021828s           0.302178  \n",
       "118   pulse_0.01000000000021828s           0.549414  \n",
       "119   pulse_0.01000000000021828s           0.988945  \n",
       "127   pulse_0.01000000000021828s           0.837856  \n",
       "128   pulse_0.01000000000021828s           0.631826  \n",
       "...                          ...                ...  \n",
       "1674  pulse_0.01000000000021828s           0.192295  \n",
       "1675  pulse_0.01000000000021828s           0.755444  \n",
       "1676  pulse_0.01000000000021828s           0.233501  \n",
       "1677  pulse_0.01000000000021828s           0.590620  \n",
       "1678  pulse_0.01000000000021828s           0.260972  \n",
       "\n",
       "[1679 rows x 8 columns]"
      ]
     },
     "execution_count": 43,
     "metadata": {},
     "output_type": "execute_result"
    }
   ],
   "source": [
    "rwv_df"
   ]
  },
  {
   "cell_type": "code",
   "execution_count": 45,
   "id": "5516f9b1",
   "metadata": {},
   "outputs": [],
   "source": [
    "rwv_df.to_csv('G:/Shared drives/visual_encoding/data/optotagging_data/concat/rr_wave_10ms_pulse.csv', index=False)"
   ]
  },
  {
   "cell_type": "markdown",
   "id": "3a740a6e",
   "metadata": {},
   "source": [
    "# Clustering"
   ]
  },
  {
   "cell_type": "code",
   "execution_count": 53,
   "id": "207359ce",
   "metadata": {},
   "outputs": [],
   "source": [
    "# settings\n",
    "clust_set = {'n_components': 2, 'random_state': 0, 'verbose': 1}"
   ]
  },
  {
   "cell_type": "code",
   "execution_count": 54,
   "id": "5c259134",
   "metadata": {},
   "outputs": [],
   "source": [
    "gm = GaussianMixture(**clust_set)"
   ]
  },
  {
   "cell_type": "code",
   "execution_count": 55,
   "id": "301372ae",
   "metadata": {},
   "outputs": [
    {
     "name": "stdout",
     "output_type": "stream",
     "text": [
      "Initialization 0\n",
      "  Iteration 10\n",
      "Initialization converged: True\n"
     ]
    },
    {
     "data": {
      "text/plain": [
       "GaussianMixture(n_components=2, random_state=0, verbose=1)"
      ]
     },
     "execution_count": 55,
     "metadata": {},
     "output_type": "execute_result"
    }
   ],
   "source": [
    "X = rwv_df[['waveform_duration', 'response_reliability']]\n",
    "gm.fit(X)"
   ]
  },
  {
   "cell_type": "code",
   "execution_count": 56,
   "id": "dfc41a57",
   "metadata": {},
   "outputs": [
    {
     "data": {
      "text/plain": [
       "-5736.234668640546"
      ]
     },
     "execution_count": 56,
     "metadata": {},
     "output_type": "execute_result"
    }
   ],
   "source": [
    "gm.bic(X)"
   ]
  },
  {
   "cell_type": "code",
   "execution_count": 57,
   "id": "a660efbe",
   "metadata": {},
   "outputs": [
    {
     "data": {
      "text/plain": [
       "array([[0.57632248, 0.01621829],\n",
       "       [0.56832181, 0.20848813]])"
      ]
     },
     "execution_count": 57,
     "metadata": {},
     "output_type": "execute_result"
    }
   ],
   "source": [
    "gm.means_"
   ]
  },
  {
   "cell_type": "code",
   "execution_count": 58,
   "id": "55051ea8",
   "metadata": {},
   "outputs": [
    {
     "data": {
      "image/png": "[encoded data removed]",
      "text/plain": [
       "<Figure size 432x288 with 1 Axes>"
      ]
     },
     "metadata": {
      "needs_background": "light"
     },
     "output_type": "display_data"
    }
   ],
   "source": [
    "plt.scatter(X['waveform_duration'], X['response_reliability'])\n",
    "plt.scatter(gm.means_[:, 0], gm.means_[:, 1], color='red')\n",
    "plt.xlabel('waveform duration')\n",
    "plt.ylabel('response reliability (10ms pulse)');"
   ]
  },
  {
   "cell_type": "code",
   "execution_count": null,
   "id": "084a8194",
   "metadata": {},
   "outputs": [],
   "source": []
  }
 ],
 "metadata": {
  "kernelspec": {
   "display_name": "Python 3 (ipykernel)",
   "language": "python",
   "name": "python3"
  },
  "language_info": {
   "codemirror_mode": {
    "name": "ipython",
    "version": 3
   },
   "file_extension": ".py",
   "mimetype": "text/x-python",
   "name": "python",
   "nbconvert_exporter": "python",
   "pygments_lexer": "ipython3",
   "version": "3.7.13"
  }
 },
 "nbformat": 4,
 "nbformat_minor": 5
}
