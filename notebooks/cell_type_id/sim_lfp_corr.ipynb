{
 "cells": [
  {
   "cell_type": "markdown",
   "id": "960a16b9",
   "metadata": {},
   "source": [
    "# Simulate LFP Correlation"
   ]
  },
  {
   "cell_type": "markdown",
   "id": "091744c6",
   "metadata": {},
   "source": [
    "This notebook..."
   ]
  },
  {
   "cell_type": "markdown",
   "id": "92088d0d",
   "metadata": {},
   "source": [
    "NOTE: LFP data has not been attached to spontaneous blocks"
   ]
  },
  {
   "cell_type": "markdown",
   "id": "04e6f99e",
   "metadata": {},
   "source": [
    "## Imports"
   ]
  },
  {
   "cell_type": "code",
   "execution_count": 1,
   "id": "6e506428",
   "metadata": {},
   "outputs": [
    {
     "name": "stdout",
     "output_type": "stream",
     "text": [
      "Packages Imported!\n"
     ]
    }
   ],
   "source": [
    "import os\n",
    "import numpy as np\n",
    "import matplotlib.pyplot as plt\n",
    "import pandas as pd\n",
    "\n",
    "import neo\n",
    "from neurodsp.sim.transients import sim_synaptic_kernel\n",
    "from specparam import SpectralModel\n",
    "import elephant.conversion as conv\n",
    "import quantities as pq\n",
    "\n",
    "import sys\n",
    "sys.path.append(\"../../allen_vc\")\n",
    "from analysis import compute_psd\n",
    "\n",
    "print(\"Packages Imported!\")"
   ]
  },
  {
   "cell_type": "markdown",
   "id": "eb695a1d",
   "metadata": {},
   "source": [
    "## Settings"
   ]
  },
  {
   "cell_type": "code",
   "execution_count": 67,
   "id": "64bc2adf",
   "metadata": {},
   "outputs": [],
   "source": [
    "# paths\n",
    "PROJECT_PATH = 'D:/visual_encoding'\n",
    "STIM_CODE = 'natural_movie_one_more_repeats'\n",
    "\n",
    "# spectra\n",
    "FS = 1250\n",
    "N_JOBS = -1\n",
    "F_MIN = 2\n",
    "F_MAX = 200\n",
    "BANDWIDTH = 1\n",
    "\n",
    "#specparam\n",
    "SPEC_PARAM_SETTINGS = {\n",
    "    'peak_width_limits' :   [2, 20], # default: (0.5, 12.0)) - reccomends at least frequency resolution * 2\n",
    "    'min_peak_height'   :   0, # (default: 0) \n",
    "    'max_n_peaks'       :   4, # (default: inf)\n",
    "    'peak_threshold'    :   2, # (default: 2.0)\n",
    "    'aperiodic_mode'    :   'knee',\n",
    "    'verbose'           :   False}"
   ]
  },
  {
   "cell_type": "markdown",
   "id": "72f30458",
   "metadata": {},
   "source": [
    "## Load Data"
   ]
  },
  {
   "cell_type": "markdown",
   "id": "1323335e",
   "metadata": {},
   "source": [
    "Code below is soley for testing/observation"
   ]
  },
  {
   "cell_type": "code",
   "execution_count": 14,
   "id": "7793cdea",
   "metadata": {},
   "outputs": [],
   "source": [
    "# load blocks, store data\n",
    "\n",
    "for i, file in enumerate(os.listdir(f\"D:/visual_encoding/data/blocks/segmented/by_cell_type/{STIM_CODE}\")):\n",
    "    \n",
    "    block = neo.io.NeoMatlabIO(f\"D:/visual_encoding/data/blocks/segmented/by_cell_type/{STIM_CODE}/{file}\").read_block()\n",
    "    \n",
    "    lfp_block = neo.io.NeoMatlabIO(f\"D:/visual_encoding/data/blocks/segmented/by_cell_type/{STIM_CODE}/{file}\").read_block()\n",
    "    \n",
    "    break"
   ]
  },
  {
   "cell_type": "code",
   "execution_count": 15,
   "id": "016f0e8d",
   "metadata": {},
   "outputs": [
    {
     "data": {
      "text/plain": [
       "Segment with 3 analogsignals, 50 spiketrains\n",
       "annotations: {'stimulus_onset': 2290.491439954788,\n",
       "  'time_window': array([ 0, 30]),\n",
       "  'running': False}\n",
       "# analogsignals (N=3)\n",
       "0: AnalogSignal with 1 channels of length 1500; units cm/s; datatype float64 \n",
       "   name: 'running_speed'\n",
       "   sampling rate: 50.0 Hz\n",
       "   time: 2290.5 s to 2320.5 s\n",
       "1: AnalogSignal with 1 channels of length 1500; units cm**2; datatype float64 \n",
       "   name: 'pupil_area'\n",
       "   sampling rate: 50.0 Hz\n",
       "   time: 2290.5 s to 2320.5 s\n",
       "2: AnalogSignal with 24 channels of length 37511; units uV; datatype float32 \n",
       "   name: 'lfp'\n",
       "   annotations: {'data_type': 'lfp',\n",
       "     'probe_id': 848037572,\n",
       "     'brain_structure': 'VISp',\n",
       "     'channel_ids': array([867382006, 867382015, 867382023, 867382031, 867382039, 867382048,\n",
       "            867382056, 867382064, 867382072, 867382080, 867382089, 867382097,\n",
       "            867382105, 867382113, 867382121, 867382129, 867382137, 867382145,\n",
       "            867382153, 867382161, 867382169, 867382177, 867382185, 867382193],\n",
       "           dtype=int64)}\n",
       "   sampling rate: 1250.0 Hz\n",
       "   time: 2290.491439954788 s to 2320.500239954788 s"
      ]
     },
     "execution_count": 15,
     "metadata": {},
     "output_type": "execute_result"
    }
   ],
   "source": [
    "block.segments[0]"
   ]
  },
  {
   "cell_type": "markdown",
   "id": "c90cdbf4",
   "metadata": {},
   "source": [
    "## Main"
   ]
  },
  {
   "cell_type": "code",
   "execution_count": 73,
   "id": "16144632",
   "metadata": {},
   "outputs": [
    {
     "data": {
      "image/png": "[encoded data removed]",
      "text/plain": [
       "<Figure size 432x288 with 1 Axes>"
      ]
     },
     "metadata": {
      "needs_background": "light"
     },
     "output_type": "display_data"
    }
   ],
   "source": [
    "# create synaptic kernels based on Gao 2017\n",
    "\n",
    "ampa = sim_synaptic_kernel(5*0.002, FS, 0.0001, 0.002)\n",
    "gaba = sim_synaptic_kernel(5*0.010, FS, 0.0005, 0.010)\n",
    "\n",
    "plt.plot(ampa)\n",
    "plt.plot(gaba);"
   ]
  },
  {
   "cell_type": "code",
   "execution_count": 74,
   "id": "663665db",
   "metadata": {
    "scrolled": true
   },
   "outputs": [
    {
     "name": "stdout",
     "output_type": "stream",
     "text": [
      "Compute Session 847657808:\n",
      "\t segment (1/60)\n",
      "\t segment (11/60)\n",
      "\t segment (21/60)\n",
      "\t segment (31/60)\n",
      "\t segment (41/60)\n",
      "\t segment (51/60)\n",
      "Compute Session 840012044:\n",
      "\t segment (1/60)\n",
      "\t segment (11/60)\n",
      "\t segment (21/60)\n",
      "\t segment (31/60)\n",
      "\t segment (41/60)\n",
      "\t segment (51/60)\n",
      "Compute Session 839068429:\n",
      "\t segment (1/60)\n",
      "\t segment (11/60)\n",
      "\t segment (21/60)\n",
      "\t segment (31/60)\n",
      "\t segment (41/60)\n",
      "\t segment (51/60)\n",
      "Compute Session 835479236:\n",
      "\t segment (1/60)\n",
      "\t segment (11/60)\n",
      "\t segment (21/60)\n",
      "\t segment (31/60)\n",
      "\t segment (41/60)\n",
      "\t segment (51/60)\n",
      "Compute Session 831882777:\n",
      "\t segment (1/60)\n",
      "\t segment (11/60)\n",
      "\t segment (21/60)\n",
      "\t segment (31/60)\n",
      "\t segment (41/60)\n",
      "\t segment (51/60)\n"
     ]
    },
    {
     "name": "stderr",
     "output_type": "stream",
     "text": [
      "C:\\Users\\User\\.conda\\envs\\py37\\lib\\site-packages\\elephant\\utils.py:299: UserWarning: Correcting a rounding error in the calculation of the number of bins by incrementing the value by 1. You can set tolerance=None to disable this behaviour.\n",
      "  warnings.warn('Correcting a rounding error in the calculation '\n"
     ]
    },
    {
     "name": "stdout",
     "output_type": "stream",
     "text": [
      "Compute Session 829720705:\n",
      "\t segment (1/60)\n",
      "\t segment (11/60)\n",
      "\t segment (21/60)\n",
      "\t segment (31/60)\n",
      "\t segment (41/60)\n",
      "\t segment (51/60)\n",
      "Compute Session 821695405:\n",
      "\t segment (1/60)\n",
      "\t segment (11/60)\n",
      "\t segment (21/60)\n",
      "\t segment (31/60)\n",
      "\t segment (41/60)\n",
      "\t segment (51/60)\n",
      "Compute Session 816200189:\n",
      "\t segment (1/60)\n",
      "\t segment (11/60)\n",
      "\t segment (21/60)\n",
      "\t segment (31/60)\n",
      "\t segment (41/60)\n",
      "\t segment (51/60)\n",
      "Compute Session 794812542:\n",
      "\t segment (1/60)\n",
      "\t segment (11/60)\n",
      "\t segment (21/60)\n",
      "\t segment (31/60)\n",
      "\t segment (41/60)\n",
      "\t segment (51/60)\n",
      "Compute Session 793224716:\n",
      "\t segment (1/58)\n",
      "\t segment (11/58)\n",
      "\t segment (21/58)\n",
      "\t segment (31/58)\n",
      "\t segment (41/58)\n",
      "\t segment (51/58)\n"
     ]
    },
    {
     "name": "stderr",
     "output_type": "stream",
     "text": [
      "C:\\Users\\User\\.conda\\envs\\py37\\lib\\site-packages\\elephant\\utils.py:299: UserWarning: Correcting a rounding error in the calculation of the number of bins by incrementing the value by 1. You can set tolerance=None to disable this behaviour.\n",
      "  warnings.warn('Correcting a rounding error in the calculation '\n"
     ]
    },
    {
     "name": "stdout",
     "output_type": "stream",
     "text": [
      "Compute Session 789848216:\n",
      "\t segment (1/60)\n",
      "\t segment (11/60)\n",
      "\t segment (21/60)\n",
      "\t segment (31/60)\n",
      "\t segment (41/60)\n",
      "\t segment (51/60)\n"
     ]
    },
    {
     "name": "stderr",
     "output_type": "stream",
     "text": [
      "C:\\Users\\User\\.conda\\envs\\py37\\lib\\site-packages\\elephant\\utils.py:299: UserWarning: Correcting a rounding error in the calculation of the number of bins by incrementing the value by 1. You can set tolerance=None to disable this behaviour.\n",
      "  warnings.warn('Correcting a rounding error in the calculation '\n"
     ]
    },
    {
     "name": "stdout",
     "output_type": "stream",
     "text": [
      "Compute Session 787025148:\n",
      "\t segment (1/60)\n",
      "\t segment (11/60)\n",
      "\t segment (21/60)\n",
      "\t segment (31/60)\n"
     ]
    },
    {
     "name": "stderr",
     "output_type": "stream",
     "text": [
      "C:\\Users\\User\\.conda\\envs\\py37\\lib\\site-packages\\elephant\\utils.py:291: UserWarning: Correcting 1 rounding errors by shifting the affected spikes into the following bin. You can set tolerance=None to disable this behaviour.\n",
      "  warnings.warn(f'Correcting {num_corrections} rounding errors by '\n"
     ]
    },
    {
     "name": "stdout",
     "output_type": "stream",
     "text": [
      "\t segment (41/60)\n",
      "\t segment (51/60)\n",
      "Compute Session 786091066:\n",
      "\t segment (1/60)\n",
      "\t segment (11/60)\n",
      "\t segment (21/60)\n",
      "\t segment (31/60)\n",
      "\t segment (41/60)\n",
      "\t segment (51/60)\n"
     ]
    },
    {
     "name": "stderr",
     "output_type": "stream",
     "text": [
      "C:\\Users\\User\\.conda\\envs\\py37\\lib\\site-packages\\elephant\\utils.py:299: UserWarning: Correcting a rounding error in the calculation of the number of bins by incrementing the value by 1. You can set tolerance=None to disable this behaviour.\n",
      "  warnings.warn('Correcting a rounding error in the calculation '\n"
     ]
    },
    {
     "name": "stdout",
     "output_type": "stream",
     "text": [
      "Compute Session 781842082:\n",
      "\t segment (1/60)\n",
      "\t segment (11/60)\n",
      "\t segment (21/60)\n",
      "\t segment (31/60)\n",
      "\t segment (41/60)\n",
      "\t segment (51/60)\n"
     ]
    },
    {
     "name": "stderr",
     "output_type": "stream",
     "text": [
      "C:\\Users\\User\\.conda\\envs\\py37\\lib\\site-packages\\elephant\\utils.py:299: UserWarning: Correcting a rounding error in the calculation of the number of bins by incrementing the value by 1. You can set tolerance=None to disable this behaviour.\n",
      "  warnings.warn('Correcting a rounding error in the calculation '\n"
     ]
    },
    {
     "name": "stdout",
     "output_type": "stream",
     "text": [
      "Compute Session 779839471:\n",
      "\t segment (1/60)\n",
      "\t segment (11/60)\n",
      "\t segment (21/60)\n",
      "\t segment (31/60)\n",
      "\t segment (41/60)\n",
      "\t segment (51/60)\n",
      "Compute Session 778998620:\n",
      "\t segment (1/60)\n",
      "\t segment (11/60)\n",
      "\t segment (21/60)\n",
      "\t segment (31/60)\n",
      "\t segment (41/60)\n",
      "\t segment (51/60)\n"
     ]
    },
    {
     "name": "stderr",
     "output_type": "stream",
     "text": [
      "C:\\Users\\User\\.conda\\envs\\py37\\lib\\site-packages\\elephant\\utils.py:299: UserWarning: Correcting a rounding error in the calculation of the number of bins by incrementing the value by 1. You can set tolerance=None to disable this behaviour.\n",
      "  warnings.warn('Correcting a rounding error in the calculation '\n"
     ]
    },
    {
     "name": "stdout",
     "output_type": "stream",
     "text": [
      "Compute Session 778240327:\n",
      "\t segment (1/60)\n",
      "\t segment (11/60)\n",
      "\t segment (21/60)\n",
      "\t segment (31/60)\n",
      "\t segment (41/60)\n",
      "\t segment (51/60)\n",
      "Compute Session 774875821:\n",
      "\t segment (1/60)\n",
      "\t segment (11/60)\n",
      "\t segment (21/60)\n",
      "\t segment (31/60)\n",
      "\t segment (41/60)\n",
      "\t segment (51/60)\n"
     ]
    },
    {
     "name": "stderr",
     "output_type": "stream",
     "text": [
      "C:\\Users\\User\\.conda\\envs\\py37\\lib\\site-packages\\elephant\\utils.py:299: UserWarning: Correcting a rounding error in the calculation of the number of bins by incrementing the value by 1. You can set tolerance=None to disable this behaviour.\n",
      "  warnings.warn('Correcting a rounding error in the calculation '\n"
     ]
    },
    {
     "name": "stdout",
     "output_type": "stream",
     "text": [
      "Compute Session 771990200:\n",
      "\t segment (1/60)\n",
      "\t segment (11/60)\n",
      "\t segment (21/60)\n",
      "\t segment (31/60)\n",
      "\t segment (41/60)\n",
      "\t segment (51/60)\n",
      "Compute Session 771160300:\n",
      "\t segment (1/60)\n",
      "\t segment (11/60)\n",
      "\t segment (21/60)\n",
      "\t segment (31/60)\n",
      "\t segment (41/60)\n",
      "\t segment (51/60)\n",
      "Compute Session 768515987:\n",
      "\t segment (1/60)\n",
      "\t segment (11/60)\n",
      "\t segment (21/60)\n",
      "\t segment (31/60)\n",
      "\t segment (41/60)\n",
      "\t segment (51/60)\n",
      "Compute Session 767871931:\n",
      "\t segment (1/60)\n",
      "\t segment (11/60)\n",
      "\t segment (21/60)\n",
      "\t segment (31/60)\n",
      "\t segment (41/60)\n",
      "\t segment (51/60)\n",
      "Compute Session 766640955:\n",
      "\t segment (1/60)\n",
      "\t segment (11/60)\n",
      "\t segment (21/60)\n",
      "\t segment (31/60)\n",
      "\t segment (41/60)\n",
      "\t segment (51/60)\n"
     ]
    },
    {
     "name": "stderr",
     "output_type": "stream",
     "text": [
      "C:\\Users\\User\\.conda\\envs\\py37\\lib\\site-packages\\elephant\\utils.py:299: UserWarning: Correcting a rounding error in the calculation of the number of bins by incrementing the value by 1. You can set tolerance=None to disable this behaviour.\n",
      "  warnings.warn('Correcting a rounding error in the calculation '\n"
     ]
    }
   ],
   "source": [
    "# load blocks\n",
    "\n",
    "sim_lfp_data = []\n",
    "\n",
    "for i_file, file in enumerate(os.listdir(f\"D:/visual_encoding/data/blocks/segmented/by_cell_type/{STIM_CODE}\")):\n",
    "    \n",
    "    block = neo.io.NeoMatlabIO(f\"D:/visual_encoding/data/blocks/segmented/by_cell_type/{STIM_CODE}/{file}\").read_block()\n",
    "    session = file.split('_')[1].split('.')[0]\n",
    "    \n",
    "    print(f\"Compute Session {session}:\")\n",
    "    \n",
    "    block_data = []\n",
    "    \n",
    "    # loop through epochs\n",
    "    for i_seg, seg in enumerate(block.segments):\n",
    "        \n",
    "        if i_seg%10 == 0:\n",
    "            print(f\"\\t segment ({i_seg + 1}/{len(block.segments)})\")\n",
    "        \n",
    "        # filter spikes by cell type, convert to bool array\n",
    "        inhib = seg.filter(cell_type='inhibitory')\n",
    "        excit = seg.filter(cell_type='excitatory')\n",
    "        \n",
    "        \n",
    "        if len(inhib) > 0:\n",
    "            inhib_bool = conv.BinnedSpikeTrain(inhib, binsize=(1/FS)*pq.s).to_bool_array()\n",
    "            inhib_spikes = np.sum(inhib_bool, axis=0)\n",
    "            \n",
    "        else:\n",
    "            inhib_spikes = np.zeros(30*FS)\n",
    "            \n",
    "            \n",
    "        if len(excit) > 0:\n",
    "            excit_bool = conv.BinnedSpikeTrain(excit, binsize=(1/FS)*pq.s).to_bool_array()\n",
    "            excit_spikes = np.sum(excit_bool, axis=0)\n",
    "            \n",
    "        else:\n",
    "            excit_spikes = np.zeros(30*FS)\n",
    "            \n",
    "        \n",
    "        # convolve\n",
    "        inhib_lfp = np.convolve(inhib_spikes, gaba, 'same') # use same to preserve dimensions with lfp\n",
    "        excit_lfp = np.convolve(excit_spikes, ampa, 'same')\n",
    "        \n",
    "        # summate\n",
    "        sim_lfp = excit_lfp - inhib_lfp\n",
    "        \n",
    "        # compute correlation with actual lfp\n",
    "        lfp = np.array(seg.filter(name='lfp')[0])[:37500].mean(axis=1) # which channels? (for now cut extra values)\n",
    "        corr = np.corrcoef(sim_lfp, lfp)[0, 1]\n",
    "        \n",
    "        \n",
    "        # compute spectral power\n",
    "        spectra, freq = compute_psd(sim_lfp, FS, fmin=F_MIN, fmax=F_MAX, bandwidth=BANDWIDTH,\n",
    "                                    n_jobs=N_JOBS, verbose=False)\n",
    "        \n",
    "        # compute specparam metrics\n",
    "        fm = SpectralModel(**SPEC_PARAM_SETTINGS)\n",
    "        fm.fit(freq, spectra)\n",
    "        params = fm.aperiodic_params_\n",
    "        \n",
    "        block_data.append(list(params) + [corr, i_seg])\n",
    "        \n",
    "    # create dataframe\n",
    "    df = pd.DataFrame(block_data, columns=['offset', 'knee', 'exponent', 'sim_corr', 'epoch_idx'])\n",
    "    df['session'] = session\n",
    "    sim_lfp_data.append(df)\n",
    "    \n",
    "# concatenate\n",
    "sim_lfp_df = pd.concat(sim_lfp_data)\n",
    "\n",
    "# save\n",
    "sim_lfp_df.to_csv(f'D:/visual_encoding/data/lfp_data/sim/sim_lfp_{STIM_CODE}.csv',index=False)"
   ]
  },
  {
   "cell_type": "code",
   "execution_count": 69,
   "id": "90a7ce4b",
   "metadata": {},
   "outputs": [
    {
     "data": {
      "text/html": [
       "<div>\n",
       "<style scoped>\n",
       "    .dataframe tbody tr th:only-of-type {\n",
       "        vertical-align: middle;\n",
       "    }\n",
       "\n",
       "    .dataframe tbody tr th {\n",
       "        vertical-align: top;\n",
       "    }\n",
       "\n",
       "    .dataframe thead th {\n",
       "        text-align: right;\n",
       "    }\n",
       "</style>\n",
       "<table border=\"1\" class=\"dataframe\">\n",
       "  <thead>\n",
       "    <tr style=\"text-align: right;\">\n",
       "      <th></th>\n",
       "      <th>offset</th>\n",
       "      <th>knee</th>\n",
       "      <th>exponent</th>\n",
       "      <th>sim_corr</th>\n",
       "      <th>epoch_idx</th>\n",
       "      <th>session</th>\n",
       "    </tr>\n",
       "  </thead>\n",
       "  <tbody>\n",
       "    <tr>\n",
       "      <th>0</th>\n",
       "      <td>1.098141</td>\n",
       "      <td>1.887216</td>\n",
       "      <td>1.005287</td>\n",
       "      <td>-0.362640</td>\n",
       "      <td>0</td>\n",
       "      <td>847657808</td>\n",
       "    </tr>\n",
       "    <tr>\n",
       "      <th>1</th>\n",
       "      <td>1.836286</td>\n",
       "      <td>67.316972</td>\n",
       "      <td>1.352607</td>\n",
       "      <td>-0.226779</td>\n",
       "      <td>1</td>\n",
       "      <td>847657808</td>\n",
       "    </tr>\n",
       "    <tr>\n",
       "      <th>2</th>\n",
       "      <td>1.367301</td>\n",
       "      <td>12.170504</td>\n",
       "      <td>1.176219</td>\n",
       "      <td>-0.319581</td>\n",
       "      <td>2</td>\n",
       "      <td>847657808</td>\n",
       "    </tr>\n",
       "    <tr>\n",
       "      <th>3</th>\n",
       "      <td>1.216450</td>\n",
       "      <td>2.985747</td>\n",
       "      <td>1.131720</td>\n",
       "      <td>-0.245621</td>\n",
       "      <td>3</td>\n",
       "      <td>847657808</td>\n",
       "    </tr>\n",
       "    <tr>\n",
       "      <th>4</th>\n",
       "      <td>2.316777</td>\n",
       "      <td>297.102542</td>\n",
       "      <td>1.565060</td>\n",
       "      <td>-0.257411</td>\n",
       "      <td>4</td>\n",
       "      <td>847657808</td>\n",
       "    </tr>\n",
       "    <tr>\n",
       "      <th>...</th>\n",
       "      <td>...</td>\n",
       "      <td>...</td>\n",
       "      <td>...</td>\n",
       "      <td>...</td>\n",
       "      <td>...</td>\n",
       "      <td>...</td>\n",
       "    </tr>\n",
       "    <tr>\n",
       "      <th>55</th>\n",
       "      <td>1.801112</td>\n",
       "      <td>84.390662</td>\n",
       "      <td>1.360062</td>\n",
       "      <td>-0.146745</td>\n",
       "      <td>55</td>\n",
       "      <td>766640955</td>\n",
       "    </tr>\n",
       "    <tr>\n",
       "      <th>56</th>\n",
       "      <td>2.171305</td>\n",
       "      <td>294.743971</td>\n",
       "      <td>1.526923</td>\n",
       "      <td>-0.141995</td>\n",
       "      <td>56</td>\n",
       "      <td>766640955</td>\n",
       "    </tr>\n",
       "    <tr>\n",
       "      <th>57</th>\n",
       "      <td>2.657057</td>\n",
       "      <td>877.770352</td>\n",
       "      <td>1.692497</td>\n",
       "      <td>-0.080646</td>\n",
       "      <td>57</td>\n",
       "      <td>766640955</td>\n",
       "    </tr>\n",
       "    <tr>\n",
       "      <th>58</th>\n",
       "      <td>2.430372</td>\n",
       "      <td>567.985167</td>\n",
       "      <td>1.615572</td>\n",
       "      <td>-0.094321</td>\n",
       "      <td>58</td>\n",
       "      <td>766640955</td>\n",
       "    </tr>\n",
       "    <tr>\n",
       "      <th>59</th>\n",
       "      <td>2.081436</td>\n",
       "      <td>240.164872</td>\n",
       "      <td>1.486374</td>\n",
       "      <td>-0.097005</td>\n",
       "      <td>59</td>\n",
       "      <td>766640955</td>\n",
       "    </tr>\n",
       "  </tbody>\n",
       "</table>\n",
       "<p>1378 rows × 6 columns</p>\n",
       "</div>"
      ],
      "text/plain": [
       "      offset        knee  exponent  sim_corr  epoch_idx    session\n",
       "0   1.098141    1.887216  1.005287 -0.362640          0  847657808\n",
       "1   1.836286   67.316972  1.352607 -0.226779          1  847657808\n",
       "2   1.367301   12.170504  1.176219 -0.319581          2  847657808\n",
       "3   1.216450    2.985747  1.131720 -0.245621          3  847657808\n",
       "4   2.316777  297.102542  1.565060 -0.257411          4  847657808\n",
       "..       ...         ...       ...       ...        ...        ...\n",
       "55  1.801112   84.390662  1.360062 -0.146745         55  766640955\n",
       "56  2.171305  294.743971  1.526923 -0.141995         56  766640955\n",
       "57  2.657057  877.770352  1.692497 -0.080646         57  766640955\n",
       "58  2.430372  567.985167  1.615572 -0.094321         58  766640955\n",
       "59  2.081436  240.164872  1.486374 -0.097005         59  766640955\n",
       "\n",
       "[1378 rows x 6 columns]"
      ]
     },
     "execution_count": 69,
     "metadata": {},
     "output_type": "execute_result"
    }
   ],
   "source": [
    "sim_lfp_df"
   ]
  },
  {
   "cell_type": "code",
   "execution_count": 70,
   "id": "6f5a8eaa",
   "metadata": {},
   "outputs": [],
   "source": [
    "from scipy.stats import zscore"
   ]
  },
  {
   "cell_type": "code",
   "execution_count": 75,
   "id": "14f50a95",
   "metadata": {},
   "outputs": [
    {
     "data": {
      "image/png": "[encoded data removed]",
      "text/plain": [
       "<Figure size 432x288 with 1 Axes>"
      ]
     },
     "metadata": {
      "needs_background": "light"
     },
     "output_type": "display_data"
    }
   ],
   "source": [
    "# plot examples with actual LFP side by side\n",
    "\n",
    "plt.plot(zscore(lfp), label='actual')\n",
    "plt.plot(zscore(sim_lfp), label='simulated')\n",
    "plt.xlim([0,FS]);"
   ]
  },
  {
   "cell_type": "code",
   "execution_count": 76,
   "id": "beba5af6",
   "metadata": {},
   "outputs": [
    {
     "data": {
      "text/plain": [
       "Text(0.5, 1.0, 'Simulation vs. Empirical LFP Correlation')"
      ]
     },
     "execution_count": 76,
     "metadata": {},
     "output_type": "execute_result"
    },
    {
     "data": {
      "image/png": "[encoded data removed]",
      "text/plain": [
       "<Figure size 432x288 with 1 Axes>"
      ]
     },
     "metadata": {
      "needs_background": "light"
     },
     "output_type": "display_data"
    }
   ],
   "source": [
    "# plot correlation coefficient distribution\n",
    "\n",
    "plt.hist(sim_lfp_df['sim_corr'], edgecolor='black', bins=50)\n",
    "plt.title('Simulation vs. Empirical LFP Correlation')"
   ]
  },
  {
   "cell_type": "code",
   "execution_count": null,
   "id": "3d21a56e",
   "metadata": {},
   "outputs": [],
   "source": [
    "# plot specparams\n",
    "\n",
    "# load actual params\n",
    "param_df = pd.read_csv(f'{PROJECT_PATH}/data/lfp_data/params/psd/{STIM_CODE}/lfp_params.csv')\n",
    "\n",
    "for var in ['offset', 'knee', 'exponent']:\n",
    "    \n",
    "    plt.scatter(sim_lfp_df[var], param_df[var])\n",
    "    plt.tile(var)\n",
    "    plt.show()"
   ]
  },
  {
   "cell_type": "code",
   "execution_count": null,
   "id": "b28b641e",
   "metadata": {},
   "outputs": [],
   "source": []
  }
 ],
 "metadata": {
  "kernelspec": {
   "display_name": "Python 3 (ipykernel)",
   "language": "python",
   "name": "python3"
  },
  "language_info": {
   "codemirror_mode": {
    "name": "ipython",
    "version": 3
   },
   "file_extension": ".py",
   "mimetype": "text/x-python",
   "name": "python",
   "nbconvert_exporter": "python",
   "pygments_lexer": "ipython3",
   "version": "3.7.13"
  }
 },
 "nbformat": 4,
 "nbformat_minor": 5
}
