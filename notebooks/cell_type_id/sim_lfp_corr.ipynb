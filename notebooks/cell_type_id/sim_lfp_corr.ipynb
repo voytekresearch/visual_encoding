{
 "cells": [
  {
   "cell_type": "markdown",
   "id": "960a16b9",
   "metadata": {},
   "source": [
    "# Simulate LFP Correlation"
   ]
  },
  {
   "cell_type": "markdown",
   "id": "091744c6",
   "metadata": {},
   "source": [
    "This notebook..."
   ]
  },
  {
   "cell_type": "markdown",
   "id": "92088d0d",
   "metadata": {},
   "source": [
    "NOTE: LFP data has not been attached to spontaneous blocks"
   ]
  },
  {
   "cell_type": "markdown",
   "id": "04e6f99e",
   "metadata": {},
   "source": [
    "## Imports"
   ]
  },
  {
   "cell_type": "code",
   "execution_count": 61,
   "id": "6e506428",
   "metadata": {},
   "outputs": [
    {
     "name": "stdout",
     "output_type": "stream",
     "text": [
      "Packages Imported!\n"
     ]
    }
   ],
   "source": [
    "import os\n",
    "import numpy as np\n",
    "import matplotlib.pyplot as plt\n",
    "import pandas as pd\n",
    "\n",
    "import neo\n",
    "from neurodsp.sim.transients import sim_synaptic_kernel\n",
    "from specparam import SpectralModel\n",
    "import elephant.conversion as conv\n",
    "import quantities as pq\n",
    "\n",
    "import sys\n",
    "sys.path.append(\"../../allen_vc\")\n",
    "from analysis import compute_psd\n",
    "\n",
    "print(\"Packages Imported!\")"
   ]
  },
  {
   "cell_type": "markdown",
   "id": "eb695a1d",
   "metadata": {},
   "source": [
    "## Settings"
   ]
  },
  {
   "cell_type": "code",
   "execution_count": 62,
   "id": "64bc2adf",
   "metadata": {},
   "outputs": [],
   "source": [
    "# paths\n",
    "PROJECT_PATH = 'G:/Shared drives/visual_encoding'\n",
    "STIM_CODE = 'natural_movie_one_more_repeats'\n",
    "\n",
    "# spectra\n",
    "FS = 1250\n",
    "N_JOBS = -1\n",
    "F_MIN = 2\n",
    "F_MAX = 200\n",
    "BANDWIDTH = 1\n",
    "\n",
    "#specparam\n",
    "SPEC_PARAM_SETTINGS = {\n",
    "    'peak_width_limits' :   [2, 20], # default: (0.5, 12.0)) - reccomends at least frequency resolution * 2\n",
    "    'min_peak_height'   :   0, # (default: 0) \n",
    "    'max_n_peaks'       :   4, # (default: inf)\n",
    "    'peak_threshold'    :   2, # (default: 2.0)\n",
    "    'aperiodic_mode'    :   'knee',\n",
    "    'verbose'           :   False}"
   ]
  },
  {
   "cell_type": "markdown",
   "id": "72f30458",
   "metadata": {},
   "source": [
    "## Load Data"
   ]
  },
  {
   "cell_type": "markdown",
   "id": "1323335e",
   "metadata": {},
   "source": [
    "Code below is soley for testing/observation"
   ]
  },
  {
   "cell_type": "code",
   "execution_count": 63,
   "id": "7793cdea",
   "metadata": {},
   "outputs": [],
   "source": [
    "# load blocks, store data\n",
    "\n",
    "for i, file in enumerate(os.listdir(f\"D:/visual_encoding/data/blocks/segmented/by_cell_type/{STIM_CODE}\")):\n",
    "    \n",
    "    block = neo.io.NeoMatlabIO(f\"D:/visual_encoding/data/blocks/segmented/by_cell_type/{STIM_CODE}/{file}\").read_block()\n",
    "    \n",
    "    lfp_block = neo.io.NeoMatlabIO(f\"D:/visual_encoding/data/blocks/segmented/by_cell_type/{STIM_CODE}/{file}\").read_block()\n",
    "    \n",
    "    break"
   ]
  },
  {
   "cell_type": "code",
   "execution_count": 80,
   "id": "49451be6",
   "metadata": {},
   "outputs": [
    {
     "data": {
      "text/plain": [
       "(37511, 24)"
      ]
     },
     "execution_count": 80,
     "metadata": {},
     "output_type": "execute_result"
    }
   ],
   "source": [
    "np.array(block.segments[5].filter(name='lfp')[0]).shape"
   ]
  },
  {
   "cell_type": "code",
   "execution_count": 58,
   "id": "016f0e8d",
   "metadata": {},
   "outputs": [
    {
     "data": {
      "text/plain": [
       "Segment with 2 analogsignals, 50 spiketrains\n",
       "annotations: {'running': False}\n",
       "# analogsignals (N=2)\n",
       "0: AnalogSignal with 1 channels of length 1500; units cm/s; datatype float64 \n",
       "   name: 'running_speed'\n",
       "   sampling rate: 50.0 Hz\n",
       "   time: 4427.179999999999 s to 4457.179999999999 s\n",
       "1: AnalogSignal with 1 channels of length 1500; units cm**2; datatype float64 \n",
       "   name: 'pupil_area'\n",
       "   sampling rate: 50.0 Hz\n",
       "   time: 4427.179999999999 s to 4457.179999999999 s"
      ]
     },
     "execution_count": 58,
     "metadata": {},
     "output_type": "execute_result"
    }
   ],
   "source": [
    "block.segments[0]"
   ]
  },
  {
   "cell_type": "markdown",
   "id": "c90cdbf4",
   "metadata": {},
   "source": [
    "## Main"
   ]
  },
  {
   "cell_type": "code",
   "execution_count": 39,
   "id": "16144632",
   "metadata": {},
   "outputs": [
    {
     "data": {
      "image/png": "[encoded data removed]",
      "text/plain": [
       "<Figure size 432x288 with 1 Axes>"
      ]
     },
     "metadata": {
      "needs_background": "light"
     },
     "output_type": "display_data"
    }
   ],
   "source": [
    "# create synaptic kernels based on Gao 2017\n",
    "\n",
    "ampa = sim_synaptic_kernel(0.05, FS, 0.0001, 0.002)\n",
    "gaba = sim_synaptic_kernel(0.05, FS, 0.0005, 0.010)\n",
    "\n",
    "plt.plot(ampa)\n",
    "plt.plot(gaba);"
   ]
  },
  {
   "cell_type": "code",
   "execution_count": null,
   "id": "663665db",
   "metadata": {},
   "outputs": [],
   "source": [
    "# load blocks\n",
    "\n",
    "sim_lfp_data = []\n",
    "\n",
    "for i_file, file in enumerate(os.listdir(f\"D:/visual_encoding/data/blocks/segmented/by_cell_type/{STIM_CODE}\")):\n",
    "    \n",
    "    block = neo.io.NeoMatlabIO(f\"D:/visual_encoding/data/blocks/segmented/by_cell_type/{STIM_CODE}/{file}\").read_block()\n",
    "    \n",
    "    block_data = []\n",
    "    \n",
    "    # loop through epochs\n",
    "    for i_seg, seg in enumerate(block.segments):\n",
    "        \n",
    "        # filter spikes by cell type, convert to bool array\n",
    "        inhib = conv.BinnedSpikeTrain(seg.filter(cell_type='inhibitory'), binsize=(1/FS)*pq.s).to_bool_array()\n",
    "        excit = conv.BinnedSpikeTrain(seg.filter(cell_type='excitatory'), binsize=(1/FS)*pq.s).to_bool_array()\n",
    "        \n",
    "        # summate\n",
    "        inhib_spikes = np.sum(inhib, axis=1)\n",
    "        excit_spikes = np.sum(excit, axis=1)\n",
    "        \n",
    "        # convolve\n",
    "        inhib_lfp = np.convolve(inhib_spikes, gaba, 'valid')\n",
    "        excit_lfp = np.convolve(excit_spikes, ampa, 'valid')\n",
    "        \n",
    "        # summate\n",
    "        sim_lfp = inhib_lfp + excit_lfp\n",
    "        \n",
    "        # compute correlation with actual lfp\n",
    "        lfp = np.array(seg.filter(name='lfp')[0]).mean(axis=1) # which channels?\n",
    "        corr = np.corrcoef(sim_lfp, lfp)\n",
    "        \n",
    "        \n",
    "        # compute spectral power\n",
    "        spectra, freq = compute_psd(sim_lfp, FS, fmin=F_MIN, fmax=F_MAX, bandwidth=BANDWIDTH,\n",
    "                                    n_jobs=N_JOBS, verbose=False)\n",
    "        \n",
    "        # compute specparam metrics\n",
    "        fm = SpectralModel(**SPEC_PARAM_SETTINGS)\n",
    "        fm.fit(freq, spectra)\n",
    "        params = fm.aperiodic_params\n",
    "        \n",
    "        block_data.append(params + [corr])\n",
    "        \n",
    "    # create dataframe\n",
    "    df = pd.DataFrame(block_data, columns=['offset', 'knee', 'exponent', 'sim_corr', 'epoch_idx'])\n",
    "    df['session'] = file.split('_')[1].split('.')[0]\n",
    "    sim_lfp_data.append(df)\n",
    "    \n",
    "# concatenate\n",
    "sim_lfp_df = pd.concat(sim_lfp_data)\n",
    "\n",
    "# save\n",
    "# sim_lfp_df.to_csv(f'D:/visual_encoding/data/lfp_data/sim/sim_lfp_{STIM_CODE}.csv',index=False)"
   ]
  },
  {
   "cell_type": "code",
   "execution_count": null,
   "id": "14f50a95",
   "metadata": {},
   "outputs": [],
   "source": [
    "# plot examples with actual LFP side by side\n"
   ]
  },
  {
   "cell_type": "code",
   "execution_count": null,
   "id": "beba5af6",
   "metadata": {},
   "outputs": [],
   "source": [
    "# plot correlation coefficient distribution\n"
   ]
  },
  {
   "cell_type": "code",
   "execution_count": null,
   "id": "3d21a56e",
   "metadata": {},
   "outputs": [],
   "source": [
    "# plot specparams\n"
   ]
  }
 ],
 "metadata": {
  "kernelspec": {
   "display_name": "Python 3 (ipykernel)",
   "language": "python",
   "name": "python3"
  },
  "language_info": {
   "codemirror_mode": {
    "name": "ipython",
    "version": 3
   },
   "file_extension": ".py",
   "mimetype": "text/x-python",
   "name": "python",
   "nbconvert_exporter": "python",
   "pygments_lexer": "ipython3",
   "version": "3.7.13"
  }
 },
 "nbformat": 4,
 "nbformat_minor": 5
}
